{
 "cells": [
  {
   "cell_type": "code",
   "execution_count": 1,
   "metadata": {},
   "outputs": [
    {
     "data": {
      "text/plain": [
       "'/Users/yejin/Desktop/Career/Projects/Review_Helpfulness/crawling'"
      ]
     },
     "execution_count": 1,
     "metadata": {},
     "output_type": "execute_result"
    }
   ],
   "source": [
    "import sys\n",
    "import os\n",
    "import pandas as pd\n",
    "import numpy as np\n",
    "\n",
    "from bs4 import BeautifulSoup\n",
    "from selenium import webdriver\n",
    "import time\n",
    "from tqdm import tqdm_notebook\n",
    "import warnings ; warnings.filterwarnings(action='ignore')\n",
    "\n",
    "%pwd"
   ]
  },
  {
   "cell_type": "code",
   "execution_count": 31,
   "metadata": {},
   "outputs": [],
   "source": [
    "# URL = 'https://www.oliveyoung.co.kr/store/display/getMCategoryList.do?dispCatNo=100000100010008'\n",
    "driver = webdriver.Chrome(executable_path='/Users/yejin/Downloads/chromedriver')\n",
    "driver.get(url=URL)"
   ]
  },
  {
   "cell_type": "code",
   "execution_count": 3,
   "metadata": {},
   "outputs": [],
   "source": [
    "url_list = []\n",
    "\n",
    "# 첫 화면 url 크롤링\n",
    "urls=driver.find_elements_by_css_selector(\".prd_info>a\")\n",
    "\n",
    "for url in urls:\n",
    "    url=url.get_attribute('href')\n",
    "    url_list.append(url)\n",
    "    \n",
    "# print(len(url_list))\n",
    "# url_list\n",
    "\n",
    "# 2~n번째 화면 url 크롤링\n",
    "for i in range(1, 10):\n",
    "    driver.find_element_by_xpath('//*[@id=\"Container\"]/div[2]/a[' + str(i) + ']').click()\n",
    "    time.sleep(3)\n",
    "    \n",
    "    urls=driver.find_elements_by_css_selector(\".prd_info>a\")\n",
    "    \n",
    "    for url in urls:\n",
    "        url=url.get_attribute('href')\n",
    "        url_list.append(url)\n",
    "    "
   ]
  },
  {
   "cell_type": "code",
   "execution_count": 4,
   "metadata": {},
   "outputs": [],
   "source": [
    "# url 저장\n",
    "olive_young_skin_url = pd.DataFrame(url_list, columns = ['link'])\n",
    "olive_young_skin_url.to_csv(\"url_list_0115.csv\", index=False)"
   ]
  },
  {
   "cell_type": "code",
   "execution_count": 5,
   "metadata": {},
   "outputs": [
    {
     "data": {
      "text/plain": [
       "240"
      ]
     },
     "execution_count": 5,
     "metadata": {},
     "output_type": "execute_result"
    }
   ],
   "source": [
    "len(url_list)"
   ]
  },
  {
   "cell_type": "code",
   "execution_count": 23,
   "metadata": {},
   "outputs": [],
   "source": [
    "DATA = pd.DataFrame(columns = ['name', 'image', 'review', 'vote'])"
   ]
  },
  {
   "cell_type": "code",
   "execution_count": 39,
   "metadata": {},
   "outputs": [
    {
     "ename": "NoSuchWindowException",
     "evalue": "Message: no such window: target window already closed\nfrom unknown error: web view not found\n  (Session info: chrome=97.0.4692.71)\nStacktrace:\n0   chromedriver                        0x0000000100c54280 chromedriver + 4833920\n1   chromedriver                        0x0000000100be8bf8 chromedriver + 4393976\n2   chromedriver                        0x00000001007dec84 chromedriver + 158852\n3   chromedriver                        0x00000001007c250c chromedriver + 42252\n4   chromedriver                        0x000000010082a244 chromedriver + 467524\n5   chromedriver                        0x000000010082dde8 chromedriver + 482792\n6   chromedriver                        0x00000001008037e0 chromedriver + 309216\n7   chromedriver                        0x0000000100c16828 chromedriver + 4581416\n8   chromedriver                        0x0000000100c2b450 chromedriver + 4666448\n9   chromedriver                        0x0000000100c2fd1c chromedriver + 4685084\n10  chromedriver                        0x0000000100c2bc28 chromedriver + 4668456\n11  chromedriver                        0x0000000100c0c610 chromedriver + 4539920\n12  chromedriver                        0x0000000100c4582c chromedriver + 4773932\n13  chromedriver                        0x0000000100c459a0 chromedriver + 4774304\n14  chromedriver                        0x0000000100c5ae44 chromedriver + 4861508\n15  libsystem_pthread.dylib             0x0000000191271240 _pthread_start + 148\n16  libsystem_pthread.dylib             0x000000019126c024 thread_start + 8\n",
     "output_type": "error",
     "traceback": [
      "\u001b[0;31m---------------------------------------------------------------------------\u001b[0m",
      "\u001b[0;31mNoSuchWindowException\u001b[0m                     Traceback (most recent call last)",
      "\u001b[0;32m/var/folders/4_/c_rvl_fj5w95qbghxb859jg80000gn/T/ipykernel_41822/3193570824.py\u001b[0m in \u001b[0;36m<module>\u001b[0;34m\u001b[0m\n\u001b[0;32m----> 1\u001b[0;31m \u001b[0mdriver\u001b[0m\u001b[0;34m.\u001b[0m\u001b[0mclose\u001b[0m\u001b[0;34m(\u001b[0m\u001b[0;34m)\u001b[0m\u001b[0;34m\u001b[0m\u001b[0;34m\u001b[0m\u001b[0m\n\u001b[0m",
      "\u001b[0;32m/opt/homebrew/lib/python3.9/site-packages/selenium/webdriver/remote/webdriver.py\u001b[0m in \u001b[0;36mclose\u001b[0;34m(self)\u001b[0m\n\u001b[1;32m    935\u001b[0m                 \u001b[0mdriver\u001b[0m\u001b[0;34m.\u001b[0m\u001b[0mclose\u001b[0m\u001b[0;34m(\u001b[0m\u001b[0;34m)\u001b[0m\u001b[0;34m\u001b[0m\u001b[0;34m\u001b[0m\u001b[0m\n\u001b[1;32m    936\u001b[0m         \"\"\"\n\u001b[0;32m--> 937\u001b[0;31m         \u001b[0mself\u001b[0m\u001b[0;34m.\u001b[0m\u001b[0mexecute\u001b[0m\u001b[0;34m(\u001b[0m\u001b[0mCommand\u001b[0m\u001b[0;34m.\u001b[0m\u001b[0mCLOSE\u001b[0m\u001b[0;34m)\u001b[0m\u001b[0;34m\u001b[0m\u001b[0;34m\u001b[0m\u001b[0m\n\u001b[0m\u001b[1;32m    938\u001b[0m \u001b[0;34m\u001b[0m\u001b[0m\n\u001b[1;32m    939\u001b[0m     \u001b[0;32mdef\u001b[0m \u001b[0mquit\u001b[0m\u001b[0;34m(\u001b[0m\u001b[0mself\u001b[0m\u001b[0;34m)\u001b[0m \u001b[0;34m->\u001b[0m \u001b[0;32mNone\u001b[0m\u001b[0;34m:\u001b[0m\u001b[0;34m\u001b[0m\u001b[0;34m\u001b[0m\u001b[0m\n",
      "\u001b[0;32m/opt/homebrew/lib/python3.9/site-packages/selenium/webdriver/remote/webdriver.py\u001b[0m in \u001b[0;36mexecute\u001b[0;34m(self, driver_command, params)\u001b[0m\n\u001b[1;32m    422\u001b[0m         \u001b[0mresponse\u001b[0m \u001b[0;34m=\u001b[0m \u001b[0mself\u001b[0m\u001b[0;34m.\u001b[0m\u001b[0mcommand_executor\u001b[0m\u001b[0;34m.\u001b[0m\u001b[0mexecute\u001b[0m\u001b[0;34m(\u001b[0m\u001b[0mdriver_command\u001b[0m\u001b[0;34m,\u001b[0m \u001b[0mparams\u001b[0m\u001b[0;34m)\u001b[0m\u001b[0;34m\u001b[0m\u001b[0;34m\u001b[0m\u001b[0m\n\u001b[1;32m    423\u001b[0m         \u001b[0;32mif\u001b[0m \u001b[0mresponse\u001b[0m\u001b[0;34m:\u001b[0m\u001b[0;34m\u001b[0m\u001b[0;34m\u001b[0m\u001b[0m\n\u001b[0;32m--> 424\u001b[0;31m             \u001b[0mself\u001b[0m\u001b[0;34m.\u001b[0m\u001b[0merror_handler\u001b[0m\u001b[0;34m.\u001b[0m\u001b[0mcheck_response\u001b[0m\u001b[0;34m(\u001b[0m\u001b[0mresponse\u001b[0m\u001b[0;34m)\u001b[0m\u001b[0;34m\u001b[0m\u001b[0;34m\u001b[0m\u001b[0m\n\u001b[0m\u001b[1;32m    425\u001b[0m             response['value'] = self._unwrap_value(\n\u001b[1;32m    426\u001b[0m                 response.get('value', None))\n",
      "\u001b[0;32m/opt/homebrew/lib/python3.9/site-packages/selenium/webdriver/remote/errorhandler.py\u001b[0m in \u001b[0;36mcheck_response\u001b[0;34m(self, response)\u001b[0m\n\u001b[1;32m    245\u001b[0m                 \u001b[0malert_text\u001b[0m \u001b[0;34m=\u001b[0m \u001b[0mvalue\u001b[0m\u001b[0;34m[\u001b[0m\u001b[0;34m'alert'\u001b[0m\u001b[0;34m]\u001b[0m\u001b[0;34m.\u001b[0m\u001b[0mget\u001b[0m\u001b[0;34m(\u001b[0m\u001b[0;34m'text'\u001b[0m\u001b[0;34m)\u001b[0m\u001b[0;34m\u001b[0m\u001b[0;34m\u001b[0m\u001b[0m\n\u001b[1;32m    246\u001b[0m             \u001b[0;32mraise\u001b[0m \u001b[0mexception_class\u001b[0m\u001b[0;34m(\u001b[0m\u001b[0mmessage\u001b[0m\u001b[0;34m,\u001b[0m \u001b[0mscreen\u001b[0m\u001b[0;34m,\u001b[0m \u001b[0mstacktrace\u001b[0m\u001b[0;34m,\u001b[0m \u001b[0malert_text\u001b[0m\u001b[0;34m)\u001b[0m  \u001b[0;31m# type: ignore[call-arg]  # mypy is not smart enough here\u001b[0m\u001b[0;34m\u001b[0m\u001b[0;34m\u001b[0m\u001b[0m\n\u001b[0;32m--> 247\u001b[0;31m         \u001b[0;32mraise\u001b[0m \u001b[0mexception_class\u001b[0m\u001b[0;34m(\u001b[0m\u001b[0mmessage\u001b[0m\u001b[0;34m,\u001b[0m \u001b[0mscreen\u001b[0m\u001b[0;34m,\u001b[0m \u001b[0mstacktrace\u001b[0m\u001b[0;34m)\u001b[0m\u001b[0;34m\u001b[0m\u001b[0;34m\u001b[0m\u001b[0m\n\u001b[0m\u001b[1;32m    248\u001b[0m \u001b[0;34m\u001b[0m\u001b[0m\n\u001b[1;32m    249\u001b[0m     \u001b[0;32mdef\u001b[0m \u001b[0m_value_or_default\u001b[0m\u001b[0;34m(\u001b[0m\u001b[0mself\u001b[0m\u001b[0;34m,\u001b[0m \u001b[0mobj\u001b[0m\u001b[0;34m:\u001b[0m \u001b[0mMapping\u001b[0m\u001b[0;34m[\u001b[0m\u001b[0m_KT\u001b[0m\u001b[0;34m,\u001b[0m \u001b[0m_VT\u001b[0m\u001b[0;34m]\u001b[0m\u001b[0;34m,\u001b[0m \u001b[0mkey\u001b[0m\u001b[0;34m:\u001b[0m \u001b[0m_KT\u001b[0m\u001b[0;34m,\u001b[0m \u001b[0mdefault\u001b[0m\u001b[0;34m:\u001b[0m \u001b[0m_VT\u001b[0m\u001b[0;34m)\u001b[0m \u001b[0;34m->\u001b[0m \u001b[0m_VT\u001b[0m\u001b[0;34m:\u001b[0m\u001b[0;34m\u001b[0m\u001b[0;34m\u001b[0m\u001b[0m\n",
      "\u001b[0;31mNoSuchWindowException\u001b[0m: Message: no such window: target window already closed\nfrom unknown error: web view not found\n  (Session info: chrome=97.0.4692.71)\nStacktrace:\n0   chromedriver                        0x0000000100c54280 chromedriver + 4833920\n1   chromedriver                        0x0000000100be8bf8 chromedriver + 4393976\n2   chromedriver                        0x00000001007dec84 chromedriver + 158852\n3   chromedriver                        0x00000001007c250c chromedriver + 42252\n4   chromedriver                        0x000000010082a244 chromedriver + 467524\n5   chromedriver                        0x000000010082dde8 chromedriver + 482792\n6   chromedriver                        0x00000001008037e0 chromedriver + 309216\n7   chromedriver                        0x0000000100c16828 chromedriver + 4581416\n8   chromedriver                        0x0000000100c2b450 chromedriver + 4666448\n9   chromedriver                        0x0000000100c2fd1c chromedriver + 4685084\n10  chromedriver                        0x0000000100c2bc28 chromedriver + 4668456\n11  chromedriver                        0x0000000100c0c610 chromedriver + 4539920\n12  chromedriver                        0x0000000100c4582c chromedriver + 4773932\n13  chromedriver                        0x0000000100c459a0 chromedriver + 4774304\n14  chromedriver                        0x0000000100c5ae44 chromedriver + 4861508\n15  libsystem_pthread.dylib             0x0000000191271240 _pthread_start + 148\n16  libsystem_pthread.dylib             0x000000019126c024 thread_start + 8\n"
     ]
    }
   ],
   "source": [
    "driver.close()"
   ]
  },
  {
   "cell_type": "code",
   "execution_count": 32,
   "metadata": {},
   "outputs": [
    {
     "name": "stderr",
     "output_type": "stream",
     "text": [
      "100%|██████████| 120/120 [25:53<00:00, 12.95s/it]\n"
     ]
    }
   ],
   "source": [
    "from tqdm import tqdm\n",
    "# 상품 리뷰정보 크롤링\n",
    "for URL in tqdm(url_list[120:]):\n",
    "    driver.get(url=URL)\n",
    "    time.sleep(1)\n",
    "\n",
    "    # 상품명\n",
    "    name = driver.find_element_by_xpath('//*[@id=\"Contents\"]/div[2]/div[2]/div/p[2]').text\n",
    "    # name.append(get_name.text)\n",
    "\n",
    "    # 이미지\n",
    "    image = driver.find_element_by_css_selector('#mainImg').get_attribute('src')\n",
    "    # 리뷰 버튼\n",
    "    review_button = driver.find_element_by_xpath('//*[@id=\"reviewInfo\"]/a')\n",
    "    review_button.click()\n",
    "\n",
    "    time.sleep(2.3)\n",
    "\n",
    "    for i in range(2, 5):\n",
    "        # 리뷰 정보\n",
    "        try:\n",
    "            review_txts = driver.find_elements_by_css_selector(\".txt_inner\")\n",
    "            votes = driver.find_elements_by_css_selector('div.recom_area span.num')\n",
    "            for k in range(10):\n",
    "                DATA = DATA.append({'name':name, 'image':image, 'review':review_txts[k].text, 'vote': int(votes[i].text)}, ignore_index=True)\n",
    "            time.sleep(0.3)\n",
    "        except:\n",
    "            time.sleep(1)\n",
    "            review_txts = driver.find_elements_by_css_selector(\".txt_inner\")\n",
    "            votes = driver.find_elements_by_css_selector('div.recom_area span.num')\n",
    "            for k in range(len(review_txts)):\n",
    "                DATA = DATA.append({'name':name, 'image':image, 'review':review_txts[k].text, 'vote': int(votes[k].text)}, ignore_index=True)\n",
    "            time.sleep(0.3)\n",
    "        \n",
    "        try:\n",
    "            driver.find_element_by_css_selector(f'#gdasContentsArea > div > div.pageing > a:nth-child({i})').click()\n",
    "            time.sleep(1)\n",
    "        except:\n",
    "            pass\n",
    "        time.sleep(1)"
   ]
  },
  {
   "cell_type": "code",
   "execution_count": 22,
   "metadata": {},
   "outputs": [
    {
     "data": {
      "text/plain": [
       "[]"
      ]
     },
     "execution_count": 22,
     "metadata": {},
     "output_type": "execute_result"
    }
   ],
   "source": [
    "review_txts"
   ]
  },
  {
   "cell_type": "code",
   "execution_count": 33,
   "metadata": {},
   "outputs": [],
   "source": [
    "DATA = DATA.drop_duplicates()"
   ]
  },
  {
   "cell_type": "code",
   "execution_count": 34,
   "metadata": {},
   "outputs": [
    {
     "data": {
      "text/plain": [
       "6438"
      ]
     },
     "execution_count": 34,
     "metadata": {},
     "output_type": "execute_result"
    }
   ],
   "source": [
    "len(DATA.drop_duplicates())"
   ]
  },
  {
   "cell_type": "code",
   "execution_count": 35,
   "metadata": {},
   "outputs": [],
   "source": [
    "DATA.to_csv(\"./olive_young_reviews.csv\", index = False)"
   ]
  },
  {
   "cell_type": "code",
   "execution_count": 38,
   "metadata": {},
   "outputs": [
    {
     "data": {
      "text/plain": [
       "0       >>피부타입:저는 민감성입니닷!! 조금이라도 안맞는걸 바르면 바로 알러지반응이 일어...\n",
       "1       아벤느 트릭세라 로션 사용중인데요 원래 다른 화장품사면서 올리브영에서 샘플로 받아서...\n",
       "2       지난번 올영세일때 구매했는데 너무 좋아서\\n이번에 또 세일하길래 쟁여놓으려고 구매했...\n",
       "3       @포장~선물하기 딱좋은 깔끔 예쁜 박스에 담겨져왔어요 선물받는듯 기분좋은 포장입니다...\n",
       "4       ⁉️다들 리뷰 너무 좋으신데... 단점리뷰입니다🥺 \\n✔️로션이지만 확실한 보습!\\...\n",
       "                              ...                        \n",
       "6692    피부과에서 여드름 레이저 치료 받을 때 처방 받아서 한동안 사용했던 제품입니다. 요...\n",
       "6693                    재재재구매템. 진짜 좋은데 양이 너무 적고 비쌈 ㅜ그게 아쉽\n",
       "6694    4-5년정도 사용중인데, 잠깐 호기심에 다른 브랜드를 사용해보다가도 며칠이 지나 다...\n",
       "6695                   만족하는데 양이 너어어어무 작음 ㅜ 금방써서 돈이 줄줄셈 ㅜㅜ\n",
       "6696    더마 브랜드들을 좋아하는데 이 제품은 좀 실망스럽네요\\n따가워요... 라로 제품 중...\n",
       "Name: review, Length: 6438, dtype: object"
      ]
     },
     "execution_count": 38,
     "metadata": {},
     "output_type": "execute_result"
    }
   ],
   "source": [
    "DATA.review"
   ]
  },
  {
   "cell_type": "code",
   "execution_count": 37,
   "metadata": {},
   "outputs": [
    {
     "data": {
      "text/plain": [
       "array([5, 4, 1, 25, 38, 12, 3, 0, 2, 7, 65, 66, 46, 32, 6, 10, 29, 194,\n",
       "       19, 15, 16, 22, 11, 9, 14, 8, 47, 37, 39, 26, 18], dtype=object)"
      ]
     },
     "execution_count": 37,
     "metadata": {},
     "output_type": "execute_result"
    }
   ],
   "source": [
    "DATA.vote.unique()"
   ]
  },
  {
   "cell_type": "code",
   "execution_count": null,
   "metadata": {},
   "outputs": [],
   "source": []
  }
 ],
 "metadata": {
  "interpreter": {
   "hash": "b0fa6594d8f4cbf19f97940f81e996739fb7646882a419484c72d19e05852a7e"
  },
  "kernelspec": {
   "display_name": "Python 3.9.9 64-bit",
   "language": "python",
   "name": "python3"
  },
  "language_info": {
   "codemirror_mode": {
    "name": "ipython",
    "version": 3
   },
   "file_extension": ".py",
   "mimetype": "text/x-python",
   "name": "python",
   "nbconvert_exporter": "python",
   "pygments_lexer": "ipython3",
   "version": "3.9.9"
  },
  "orig_nbformat": 4
 },
 "nbformat": 4,
 "nbformat_minor": 2
}
