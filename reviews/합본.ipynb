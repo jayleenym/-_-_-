{
 "cells": [
  {
   "cell_type": "code",
   "execution_count": 1,
   "metadata": {},
   "outputs": [],
   "source": [
    "import os\n",
    "import pandas as pd"
   ]
  },
  {
   "cell_type": "code",
   "execution_count": 13,
   "metadata": {},
   "outputs": [
    {
     "name": "stdout",
     "output_type": "stream",
     "text": [
      "1300to1500_labeling_set2_team2 - 합본.csv\n",
      "900to1100_labeling_set1_team2 - 합본.csv\n",
      "1100to1300_labeling_set2_team1 - 합본.csv\n",
      "4800to5800 - 합본.csv\n",
      "1500to1700_labeling_set3_team1 - 합본.csv\n",
      "500to699_labeling - 합본.csv\n",
      "700to900_labeling_set1_team1 - 합본.csv\n",
      "0to499_labeling_합본.csv\n"
     ]
    }
   ],
   "source": [
    "DATA = pd.DataFrame(columns = '문예진,이상민,정수연,정승연,황의린,평균,표준편차,상품명,리뷰,index'.split(','))\n",
    "for f in os.listdir():\n",
    "    if f.endswith('합본.csv'):\n",
    "        print(f)\n",
    "        DATA = DATA.append(pd.read_csv(f), ignore_index=True)"
   ]
  },
  {
   "cell_type": "code",
   "execution_count": 15,
   "metadata": {},
   "outputs": [],
   "source": [
    "DATA.to_csv('../web/labeling_합본.csv', index = False)"
   ]
  },
  {
   "cell_type": "code",
   "execution_count": 19,
   "metadata": {},
   "outputs": [],
   "source": [
    "DATA['표준편차'] = pd.Series(list(map(float, DATA['표준편차'].replace('#DIV/0!', 0))))"
   ]
  },
  {
   "cell_type": "code",
   "execution_count": null,
   "metadata": {},
   "outputs": [],
   "source": [
    "차"
   ]
  }
 ],
 "metadata": {
  "interpreter": {
   "hash": "b0fa6594d8f4cbf19f97940f81e996739fb7646882a419484c72d19e05852a7e"
  },
  "kernelspec": {
   "display_name": "Python 3.9.9 64-bit",
   "language": "python",
   "name": "python3"
  },
  "language_info": {
   "codemirror_mode": {
    "name": "ipython",
    "version": 3
   },
   "file_extension": ".py",
   "mimetype": "text/x-python",
   "name": "python",
   "nbconvert_exporter": "python",
   "pygments_lexer": "ipython3",
   "version": "3.9.9"
  },
  "orig_nbformat": 4
 },
 "nbformat": 4,
 "nbformat_minor": 2
}
