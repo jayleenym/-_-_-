{
  "nbformat": 4,
  "nbformat_minor": 0,
  "metadata": {
    "accelerator": "GPU",
    "colab": {
      "name": "KcBERT",
      "provenance": [],
      "collapsed_sections": []
    },
    "kernelspec": {
      "display_name": "Python 3",
      "name": "python3"
    },
    "widgets": {
      "application/vnd.jupyter.widget-state+json": {
        "f4fe2790e6f44341bc6540808aa2ea15": {
          "model_module": "@jupyter-widgets/controls",
          "model_name": "HBoxModel",
          "model_module_version": "1.5.0",
          "state": {
            "_view_name": "HBoxView",
            "_dom_classes": [],
            "_model_name": "HBoxModel",
            "_view_module": "@jupyter-widgets/controls",
            "_model_module_version": "1.5.0",
            "_view_count": null,
            "_view_module_version": "1.5.0",
            "box_style": "",
            "layout": "IPY_MODEL_92cf4bf608a6431588859b6df7bef8f6",
            "_model_module": "@jupyter-widgets/controls",
            "children": [
              "IPY_MODEL_7a739bc9c840403c8e4843c5e43be266",
              "IPY_MODEL_4e30b66e07204405ba147ad5be34715a",
              "IPY_MODEL_3b5bf1e35f664c57a9887ea12a782cc0"
            ]
          }
        },
        "92cf4bf608a6431588859b6df7bef8f6": {
          "model_module": "@jupyter-widgets/base",
          "model_name": "LayoutModel",
          "model_module_version": "1.2.0",
          "state": {
            "_view_name": "LayoutView",
            "grid_template_rows": null,
            "right": null,
            "justify_content": null,
            "_view_module": "@jupyter-widgets/base",
            "overflow": null,
            "_model_module_version": "1.2.0",
            "_view_count": null,
            "flex_flow": "row wrap",
            "width": "100%",
            "min_width": null,
            "border": null,
            "align_items": null,
            "bottom": null,
            "_model_module": "@jupyter-widgets/base",
            "top": null,
            "grid_column": null,
            "overflow_y": null,
            "overflow_x": null,
            "grid_auto_flow": null,
            "grid_area": null,
            "grid_template_columns": null,
            "flex": null,
            "_model_name": "LayoutModel",
            "justify_items": null,
            "grid_row": null,
            "max_height": null,
            "align_content": null,
            "visibility": null,
            "align_self": null,
            "height": null,
            "min_height": null,
            "padding": null,
            "grid_auto_rows": null,
            "grid_gap": null,
            "max_width": null,
            "order": null,
            "_view_module_version": "1.2.0",
            "grid_template_areas": null,
            "object_position": null,
            "object_fit": null,
            "grid_auto_columns": null,
            "margin": null,
            "display": "inline-flex",
            "left": null
          }
        },
        "7a739bc9c840403c8e4843c5e43be266": {
          "model_module": "@jupyter-widgets/controls",
          "model_name": "HTMLModel",
          "model_module_version": "1.5.0",
          "state": {
            "_view_name": "HTMLView",
            "style": "IPY_MODEL_88eab4a98013402ea133e3d81b35e637",
            "_dom_classes": [],
            "description": "",
            "_model_name": "HTMLModel",
            "placeholder": "​",
            "_view_module": "@jupyter-widgets/controls",
            "_model_module_version": "1.5.0",
            "value": "Epoch 0: 100%",
            "_view_count": null,
            "_view_module_version": "1.5.0",
            "description_tooltip": null,
            "_model_module": "@jupyter-widgets/controls",
            "layout": "IPY_MODEL_d8175af32d46451cb2f8726606cea22d"
          }
        },
        "4e30b66e07204405ba147ad5be34715a": {
          "model_module": "@jupyter-widgets/controls",
          "model_name": "FloatProgressModel",
          "model_module_version": "1.5.0",
          "state": {
            "_view_name": "ProgressView",
            "style": "IPY_MODEL_df8c0ce4b1954c3bba31089ea5cc1b29",
            "_dom_classes": [],
            "description": "",
            "_model_name": "FloatProgressModel",
            "bar_style": "success",
            "max": 1,
            "_view_module": "@jupyter-widgets/controls",
            "_model_module_version": "1.5.0",
            "value": 1,
            "_view_count": null,
            "_view_module_version": "1.5.0",
            "orientation": "horizontal",
            "min": 0,
            "description_tooltip": null,
            "_model_module": "@jupyter-widgets/controls",
            "layout": "IPY_MODEL_02583a1a062b4f79be903609401984c3"
          }
        },
        "3b5bf1e35f664c57a9887ea12a782cc0": {
          "model_module": "@jupyter-widgets/controls",
          "model_name": "HTMLModel",
          "model_module_version": "1.5.0",
          "state": {
            "_view_name": "HTMLView",
            "style": "IPY_MODEL_5c5d7e892e9c40a4895cef82318935c9",
            "_dom_classes": [],
            "description": "",
            "_model_name": "HTMLModel",
            "placeholder": "​",
            "_view_module": "@jupyter-widgets/controls",
            "_model_module_version": "1.5.0",
            "value": " 29/29 [00:21&lt;00:00,  1.32it/s, loss=0.365, v_num=1, val_loss=0.292, val_acc=0.890, val_precision=0.836, val_recall=0.971, val_f1=0.899]",
            "_view_count": null,
            "_view_module_version": "1.5.0",
            "description_tooltip": null,
            "_model_module": "@jupyter-widgets/controls",
            "layout": "IPY_MODEL_555bc41b0c074a9bb1d7ba023b88890a"
          }
        },
        "88eab4a98013402ea133e3d81b35e637": {
          "model_module": "@jupyter-widgets/controls",
          "model_name": "DescriptionStyleModel",
          "model_module_version": "1.5.0",
          "state": {
            "_view_name": "StyleView",
            "_model_name": "DescriptionStyleModel",
            "description_width": "",
            "_view_module": "@jupyter-widgets/base",
            "_model_module_version": "1.5.0",
            "_view_count": null,
            "_view_module_version": "1.2.0",
            "_model_module": "@jupyter-widgets/controls"
          }
        },
        "d8175af32d46451cb2f8726606cea22d": {
          "model_module": "@jupyter-widgets/base",
          "model_name": "LayoutModel",
          "model_module_version": "1.2.0",
          "state": {
            "_view_name": "LayoutView",
            "grid_template_rows": null,
            "right": null,
            "justify_content": null,
            "_view_module": "@jupyter-widgets/base",
            "overflow": null,
            "_model_module_version": "1.2.0",
            "_view_count": null,
            "flex_flow": null,
            "width": null,
            "min_width": null,
            "border": null,
            "align_items": null,
            "bottom": null,
            "_model_module": "@jupyter-widgets/base",
            "top": null,
            "grid_column": null,
            "overflow_y": null,
            "overflow_x": null,
            "grid_auto_flow": null,
            "grid_area": null,
            "grid_template_columns": null,
            "flex": null,
            "_model_name": "LayoutModel",
            "justify_items": null,
            "grid_row": null,
            "max_height": null,
            "align_content": null,
            "visibility": null,
            "align_self": null,
            "height": null,
            "min_height": null,
            "padding": null,
            "grid_auto_rows": null,
            "grid_gap": null,
            "max_width": null,
            "order": null,
            "_view_module_version": "1.2.0",
            "grid_template_areas": null,
            "object_position": null,
            "object_fit": null,
            "grid_auto_columns": null,
            "margin": null,
            "display": null,
            "left": null
          }
        },
        "df8c0ce4b1954c3bba31089ea5cc1b29": {
          "model_module": "@jupyter-widgets/controls",
          "model_name": "ProgressStyleModel",
          "model_module_version": "1.5.0",
          "state": {
            "_view_name": "StyleView",
            "_model_name": "ProgressStyleModel",
            "description_width": "",
            "_view_module": "@jupyter-widgets/base",
            "_model_module_version": "1.5.0",
            "_view_count": null,
            "_view_module_version": "1.2.0",
            "bar_color": null,
            "_model_module": "@jupyter-widgets/controls"
          }
        },
        "02583a1a062b4f79be903609401984c3": {
          "model_module": "@jupyter-widgets/base",
          "model_name": "LayoutModel",
          "model_module_version": "1.2.0",
          "state": {
            "_view_name": "LayoutView",
            "grid_template_rows": null,
            "right": null,
            "justify_content": null,
            "_view_module": "@jupyter-widgets/base",
            "overflow": null,
            "_model_module_version": "1.2.0",
            "_view_count": null,
            "flex_flow": null,
            "width": null,
            "min_width": null,
            "border": null,
            "align_items": null,
            "bottom": null,
            "_model_module": "@jupyter-widgets/base",
            "top": null,
            "grid_column": null,
            "overflow_y": null,
            "overflow_x": null,
            "grid_auto_flow": null,
            "grid_area": null,
            "grid_template_columns": null,
            "flex": "2",
            "_model_name": "LayoutModel",
            "justify_items": null,
            "grid_row": null,
            "max_height": null,
            "align_content": null,
            "visibility": null,
            "align_self": null,
            "height": null,
            "min_height": null,
            "padding": null,
            "grid_auto_rows": null,
            "grid_gap": null,
            "max_width": null,
            "order": null,
            "_view_module_version": "1.2.0",
            "grid_template_areas": null,
            "object_position": null,
            "object_fit": null,
            "grid_auto_columns": null,
            "margin": null,
            "display": null,
            "left": null
          }
        },
        "5c5d7e892e9c40a4895cef82318935c9": {
          "model_module": "@jupyter-widgets/controls",
          "model_name": "DescriptionStyleModel",
          "model_module_version": "1.5.0",
          "state": {
            "_view_name": "StyleView",
            "_model_name": "DescriptionStyleModel",
            "description_width": "",
            "_view_module": "@jupyter-widgets/base",
            "_model_module_version": "1.5.0",
            "_view_count": null,
            "_view_module_version": "1.2.0",
            "_model_module": "@jupyter-widgets/controls"
          }
        },
        "555bc41b0c074a9bb1d7ba023b88890a": {
          "model_module": "@jupyter-widgets/base",
          "model_name": "LayoutModel",
          "model_module_version": "1.2.0",
          "state": {
            "_view_name": "LayoutView",
            "grid_template_rows": null,
            "right": null,
            "justify_content": null,
            "_view_module": "@jupyter-widgets/base",
            "overflow": null,
            "_model_module_version": "1.2.0",
            "_view_count": null,
            "flex_flow": null,
            "width": null,
            "min_width": null,
            "border": null,
            "align_items": null,
            "bottom": null,
            "_model_module": "@jupyter-widgets/base",
            "top": null,
            "grid_column": null,
            "overflow_y": null,
            "overflow_x": null,
            "grid_auto_flow": null,
            "grid_area": null,
            "grid_template_columns": null,
            "flex": null,
            "_model_name": "LayoutModel",
            "justify_items": null,
            "grid_row": null,
            "max_height": null,
            "align_content": null,
            "visibility": null,
            "align_self": null,
            "height": null,
            "min_height": null,
            "padding": null,
            "grid_auto_rows": null,
            "grid_gap": null,
            "max_width": null,
            "order": null,
            "_view_module_version": "1.2.0",
            "grid_template_areas": null,
            "object_position": null,
            "object_fit": null,
            "grid_auto_columns": null,
            "margin": null,
            "display": null,
            "left": null
          }
        },
        "ae77797ab1684f15a189ee7a80144737": {
          "model_module": "@jupyter-widgets/controls",
          "model_name": "HBoxModel",
          "model_module_version": "1.5.0",
          "state": {
            "_view_name": "HBoxView",
            "_dom_classes": [],
            "_model_name": "HBoxModel",
            "_view_module": "@jupyter-widgets/controls",
            "_model_module_version": "1.5.0",
            "_view_count": null,
            "_view_module_version": "1.5.0",
            "box_style": "",
            "layout": "IPY_MODEL_e1c5a94828e54c17ba4929fcf488a31f",
            "_model_module": "@jupyter-widgets/controls",
            "children": [
              "IPY_MODEL_e6e239767e114bd0ad62971b4362f88c",
              "IPY_MODEL_6eaa3df389ae44009bc43cfa0a2f70a6",
              "IPY_MODEL_ee018b46a9484c3baaad7ac76af589d9"
            ]
          }
        },
        "e1c5a94828e54c17ba4929fcf488a31f": {
          "model_module": "@jupyter-widgets/base",
          "model_name": "LayoutModel",
          "model_module_version": "1.2.0",
          "state": {
            "_view_name": "LayoutView",
            "grid_template_rows": null,
            "right": null,
            "justify_content": null,
            "_view_module": "@jupyter-widgets/base",
            "overflow": null,
            "_model_module_version": "1.2.0",
            "_view_count": null,
            "flex_flow": "row wrap",
            "width": "100%",
            "min_width": null,
            "border": null,
            "align_items": null,
            "bottom": null,
            "_model_module": "@jupyter-widgets/base",
            "top": null,
            "grid_column": null,
            "overflow_y": null,
            "overflow_x": null,
            "grid_auto_flow": null,
            "grid_area": null,
            "grid_template_columns": null,
            "flex": null,
            "_model_name": "LayoutModel",
            "justify_items": null,
            "grid_row": null,
            "max_height": null,
            "align_content": null,
            "visibility": null,
            "align_self": null,
            "height": null,
            "min_height": null,
            "padding": null,
            "grid_auto_rows": null,
            "grid_gap": null,
            "max_width": null,
            "order": null,
            "_view_module_version": "1.2.0",
            "grid_template_areas": null,
            "object_position": null,
            "object_fit": null,
            "grid_auto_columns": null,
            "margin": null,
            "display": "inline-flex",
            "left": null
          }
        },
        "e6e239767e114bd0ad62971b4362f88c": {
          "model_module": "@jupyter-widgets/controls",
          "model_name": "HTMLModel",
          "model_module_version": "1.5.0",
          "state": {
            "_view_name": "HTMLView",
            "style": "IPY_MODEL_251182a098c0435bbc80f9c26fe9795c",
            "_dom_classes": [],
            "description": "",
            "_model_name": "HTMLModel",
            "placeholder": "​",
            "_view_module": "@jupyter-widgets/controls",
            "_model_module_version": "1.5.0",
            "value": "Validating: 100%",
            "_view_count": null,
            "_view_module_version": "1.5.0",
            "description_tooltip": null,
            "_model_module": "@jupyter-widgets/controls",
            "layout": "IPY_MODEL_6762bb5e0f984784bbe81b693cda5379"
          }
        },
        "6eaa3df389ae44009bc43cfa0a2f70a6": {
          "model_module": "@jupyter-widgets/controls",
          "model_name": "FloatProgressModel",
          "model_module_version": "1.5.0",
          "state": {
            "_view_name": "ProgressView",
            "style": "IPY_MODEL_ac5c6d200e1f485a9a216b130d10af88",
            "_dom_classes": [],
            "description": "",
            "_model_name": "FloatProgressModel",
            "bar_style": "info",
            "max": 1,
            "_view_module": "@jupyter-widgets/controls",
            "_model_module_version": "1.5.0",
            "value": 1,
            "_view_count": null,
            "_view_module_version": "1.5.0",
            "orientation": "horizontal",
            "min": 0,
            "description_tooltip": null,
            "_model_module": "@jupyter-widgets/controls",
            "layout": "IPY_MODEL_3e26286605194fb29c6972b69f2b199c"
          }
        },
        "ee018b46a9484c3baaad7ac76af589d9": {
          "model_module": "@jupyter-widgets/controls",
          "model_name": "HTMLModel",
          "model_module_version": "1.5.0",
          "state": {
            "_view_name": "HTMLView",
            "style": "IPY_MODEL_9b2528d556f44e04bb02c71e8a4eabe9",
            "_dom_classes": [],
            "description": "",
            "_model_name": "HTMLModel",
            "placeholder": "​",
            "_view_module": "@jupyter-widgets/controls",
            "_model_module_version": "1.5.0",
            "value": " 7/7 [00:01&lt;00:00,  4.90it/s]",
            "_view_count": null,
            "_view_module_version": "1.5.0",
            "description_tooltip": null,
            "_model_module": "@jupyter-widgets/controls",
            "layout": "IPY_MODEL_e10940dbc2f046c4b257e6e458b9c444"
          }
        },
        "251182a098c0435bbc80f9c26fe9795c": {
          "model_module": "@jupyter-widgets/controls",
          "model_name": "DescriptionStyleModel",
          "model_module_version": "1.5.0",
          "state": {
            "_view_name": "StyleView",
            "_model_name": "DescriptionStyleModel",
            "description_width": "",
            "_view_module": "@jupyter-widgets/base",
            "_model_module_version": "1.5.0",
            "_view_count": null,
            "_view_module_version": "1.2.0",
            "_model_module": "@jupyter-widgets/controls"
          }
        },
        "6762bb5e0f984784bbe81b693cda5379": {
          "model_module": "@jupyter-widgets/base",
          "model_name": "LayoutModel",
          "model_module_version": "1.2.0",
          "state": {
            "_view_name": "LayoutView",
            "grid_template_rows": null,
            "right": null,
            "justify_content": null,
            "_view_module": "@jupyter-widgets/base",
            "overflow": null,
            "_model_module_version": "1.2.0",
            "_view_count": null,
            "flex_flow": null,
            "width": null,
            "min_width": null,
            "border": null,
            "align_items": null,
            "bottom": null,
            "_model_module": "@jupyter-widgets/base",
            "top": null,
            "grid_column": null,
            "overflow_y": null,
            "overflow_x": null,
            "grid_auto_flow": null,
            "grid_area": null,
            "grid_template_columns": null,
            "flex": null,
            "_model_name": "LayoutModel",
            "justify_items": null,
            "grid_row": null,
            "max_height": null,
            "align_content": null,
            "visibility": null,
            "align_self": null,
            "height": null,
            "min_height": null,
            "padding": null,
            "grid_auto_rows": null,
            "grid_gap": null,
            "max_width": null,
            "order": null,
            "_view_module_version": "1.2.0",
            "grid_template_areas": null,
            "object_position": null,
            "object_fit": null,
            "grid_auto_columns": null,
            "margin": null,
            "display": null,
            "left": null
          }
        },
        "ac5c6d200e1f485a9a216b130d10af88": {
          "model_module": "@jupyter-widgets/controls",
          "model_name": "ProgressStyleModel",
          "model_module_version": "1.5.0",
          "state": {
            "_view_name": "StyleView",
            "_model_name": "ProgressStyleModel",
            "description_width": "",
            "_view_module": "@jupyter-widgets/base",
            "_model_module_version": "1.5.0",
            "_view_count": null,
            "_view_module_version": "1.2.0",
            "bar_color": null,
            "_model_module": "@jupyter-widgets/controls"
          }
        },
        "3e26286605194fb29c6972b69f2b199c": {
          "model_module": "@jupyter-widgets/base",
          "model_name": "LayoutModel",
          "model_module_version": "1.2.0",
          "state": {
            "_view_name": "LayoutView",
            "grid_template_rows": null,
            "right": null,
            "justify_content": null,
            "_view_module": "@jupyter-widgets/base",
            "overflow": null,
            "_model_module_version": "1.2.0",
            "_view_count": null,
            "flex_flow": null,
            "width": null,
            "min_width": null,
            "border": null,
            "align_items": null,
            "bottom": null,
            "_model_module": "@jupyter-widgets/base",
            "top": null,
            "grid_column": null,
            "overflow_y": null,
            "overflow_x": null,
            "grid_auto_flow": null,
            "grid_area": null,
            "grid_template_columns": null,
            "flex": "2",
            "_model_name": "LayoutModel",
            "justify_items": null,
            "grid_row": null,
            "max_height": null,
            "align_content": null,
            "visibility": null,
            "align_self": null,
            "height": null,
            "min_height": null,
            "padding": null,
            "grid_auto_rows": null,
            "grid_gap": null,
            "max_width": null,
            "order": null,
            "_view_module_version": "1.2.0",
            "grid_template_areas": null,
            "object_position": null,
            "object_fit": null,
            "grid_auto_columns": null,
            "margin": null,
            "display": null,
            "left": null
          }
        },
        "9b2528d556f44e04bb02c71e8a4eabe9": {
          "model_module": "@jupyter-widgets/controls",
          "model_name": "DescriptionStyleModel",
          "model_module_version": "1.5.0",
          "state": {
            "_view_name": "StyleView",
            "_model_name": "DescriptionStyleModel",
            "description_width": "",
            "_view_module": "@jupyter-widgets/base",
            "_model_module_version": "1.5.0",
            "_view_count": null,
            "_view_module_version": "1.2.0",
            "_model_module": "@jupyter-widgets/controls"
          }
        },
        "e10940dbc2f046c4b257e6e458b9c444": {
          "model_module": "@jupyter-widgets/base",
          "model_name": "LayoutModel",
          "model_module_version": "1.2.0",
          "state": {
            "_view_name": "LayoutView",
            "grid_template_rows": null,
            "right": null,
            "justify_content": null,
            "_view_module": "@jupyter-widgets/base",
            "overflow": null,
            "_model_module_version": "1.2.0",
            "_view_count": null,
            "flex_flow": null,
            "width": null,
            "min_width": null,
            "border": null,
            "align_items": null,
            "bottom": null,
            "_model_module": "@jupyter-widgets/base",
            "top": null,
            "grid_column": null,
            "overflow_y": null,
            "overflow_x": null,
            "grid_auto_flow": null,
            "grid_area": null,
            "grid_template_columns": null,
            "flex": null,
            "_model_name": "LayoutModel",
            "justify_items": null,
            "grid_row": null,
            "max_height": null,
            "align_content": null,
            "visibility": null,
            "align_self": null,
            "height": null,
            "min_height": null,
            "padding": null,
            "grid_auto_rows": null,
            "grid_gap": null,
            "max_width": null,
            "order": null,
            "_view_module_version": "1.2.0",
            "grid_template_areas": null,
            "object_position": null,
            "object_fit": null,
            "grid_auto_columns": null,
            "margin": null,
            "display": null,
            "left": null
          }
        }
      }
    }
  },
  "cells": [
    {
      "cell_type": "code",
      "source": [
        "import pandas as pd"
      ],
      "metadata": {
        "id": "pKpCyLX8kakS"
      },
      "execution_count": 1,
      "outputs": []
    },
    {
      "cell_type": "code",
      "source": [
        "dataset_train = pd.read_csv(\"train_preprocess.csv\")"
      ],
      "metadata": {
        "id": "rIQ5HWdJe9Ew"
      },
      "execution_count": 3,
      "outputs": []
    },
    {
      "cell_type": "code",
      "source": [
        "dataset_test = dataset_train[700:]\n",
        "dataset_train = dataset_train[:700]"
      ],
      "metadata": {
        "id": "JszNWUpQe2kf"
      },
      "execution_count": 4,
      "outputs": []
    },
    {
      "cell_type": "code",
      "source": [
        "dataset_test.reset_index(drop=True, inplace=True)"
      ],
      "metadata": {
        "id": "94JYLQ3ZgN38"
      },
      "execution_count": 5,
      "outputs": []
    },
    {
      "cell_type": "code",
      "source": [
        "df_review = dataset_train[\"review\"]\n",
        "df_label = dataset_train[\"label\"]"
      ],
      "metadata": {
        "id": "xcAxbIlmbY1D"
      },
      "execution_count": 6,
      "outputs": []
    },
    {
      "cell_type": "code",
      "source": [
        "mystr = 'review\\tlabel\\n' \n",
        "for i in range(len(df_review)):\n",
        "   mystr += str(df_review[i]) + '\\t' + str(df_label[i]) + '\\n'"
      ],
      "metadata": {
        "id": "oSdLZGHWgNYb"
      },
      "execution_count": 7,
      "outputs": []
    },
    {
      "cell_type": "code",
      "source": [
        "df_review2 = dataset_test[\"review\"]\n",
        "df_label2 = dataset_test[\"label\"]"
      ],
      "metadata": {
        "id": "lTMaWCjPfXA0"
      },
      "execution_count": 8,
      "outputs": []
    },
    {
      "cell_type": "code",
      "source": [
        "mystr2 = 'review\\tlabel\\n' \n",
        "for i in range(len(df_review2)):\n",
        "   mystr2 += str(df_review2[i]) + '\\t' + str(df_label2[i]) + '\\n'"
      ],
      "metadata": {
        "id": "qkrn8L38fBLr"
      },
      "execution_count": 9,
      "outputs": []
    },
    {
      "cell_type": "code",
      "source": [
        "with open('train.txt', 'w', encoding='utf-8') as f: \n",
        "  f.write(mystr)"
      ],
      "metadata": {
        "id": "U_kiD0qVbkAI"
      },
      "execution_count": 10,
      "outputs": []
    },
    {
      "cell_type": "code",
      "source": [
        "with open('test.txt', 'w', encoding='utf-8') as f: \n",
        "  f.write(mystr2)"
      ],
      "metadata": {
        "id": "AQATnkWafRBT"
      },
      "execution_count": 11,
      "outputs": []
    },
    {
      "cell_type": "code",
      "metadata": {
        "colab": {
          "base_uri": "https://localhost:8080/"
        },
        "id": "vx2mHvhGFYBp",
        "outputId": "fe0d2fe0-7985-42e5-ced7-b7bbf3817bc6"
      },
      "source": [
        "!pip install -U -q transformers emoji soynlp\n",
        "!pip install -q https://github.com/PyTorchLightning/pytorch-lightning/archive/master.zip"
      ],
      "execution_count": 12,
      "outputs": [
        {
          "output_type": "stream",
          "name": "stdout",
          "text": [
            "\u001b[?25l\r\u001b[K     |                                | 10 kB 39.1 MB/s eta 0:00:01\r\u001b[K     |▏                               | 20 kB 43.2 MB/s eta 0:00:01\r\u001b[K     |▎                               | 30 kB 46.5 MB/s eta 0:00:01\r\u001b[K     |▍                               | 40 kB 29.4 MB/s eta 0:00:01\r\u001b[K     |▌                               | 51 kB 18.2 MB/s eta 0:00:01\r\u001b[K     |▋                               | 61 kB 19.1 MB/s eta 0:00:01\r\u001b[K     |▊                               | 71 kB 14.4 MB/s eta 0:00:01\r\u001b[K     |▉                               | 81 kB 16.0 MB/s eta 0:00:01\r\u001b[K     |▉                               | 92 kB 17.5 MB/s eta 0:00:01\r\u001b[K     |█                               | 102 kB 14.8 MB/s eta 0:00:01\r\u001b[K     |█                               | 112 kB 14.8 MB/s eta 0:00:01\r\u001b[K     |█▏                              | 122 kB 14.8 MB/s eta 0:00:01\r\u001b[K     |█▎                              | 133 kB 14.8 MB/s eta 0:00:01\r\u001b[K     |█▍                              | 143 kB 14.8 MB/s eta 0:00:01\r\u001b[K     |█▌                              | 153 kB 14.8 MB/s eta 0:00:01\r\u001b[K     |█▋                              | 163 kB 14.8 MB/s eta 0:00:01\r\u001b[K     |█▋                              | 174 kB 14.8 MB/s eta 0:00:01\r\u001b[K     |█▊                              | 184 kB 14.8 MB/s eta 0:00:01\r\u001b[K     |█▉                              | 194 kB 14.8 MB/s eta 0:00:01\r\u001b[K     |██                              | 204 kB 14.8 MB/s eta 0:00:01\r\u001b[K     |██                              | 215 kB 14.8 MB/s eta 0:00:01\r\u001b[K     |██▏                             | 225 kB 14.8 MB/s eta 0:00:01\r\u001b[K     |██▎                             | 235 kB 14.8 MB/s eta 0:00:01\r\u001b[K     |██▍                             | 245 kB 14.8 MB/s eta 0:00:01\r\u001b[K     |██▍                             | 256 kB 14.8 MB/s eta 0:00:01\r\u001b[K     |██▌                             | 266 kB 14.8 MB/s eta 0:00:01\r\u001b[K     |██▋                             | 276 kB 14.8 MB/s eta 0:00:01\r\u001b[K     |██▊                             | 286 kB 14.8 MB/s eta 0:00:01\r\u001b[K     |██▉                             | 296 kB 14.8 MB/s eta 0:00:01\r\u001b[K     |███                             | 307 kB 14.8 MB/s eta 0:00:01\r\u001b[K     |███                             | 317 kB 14.8 MB/s eta 0:00:01\r\u001b[K     |███▏                            | 327 kB 14.8 MB/s eta 0:00:01\r\u001b[K     |███▎                            | 337 kB 14.8 MB/s eta 0:00:01\r\u001b[K     |███▎                            | 348 kB 14.8 MB/s eta 0:00:01\r\u001b[K     |███▍                            | 358 kB 14.8 MB/s eta 0:00:01\r\u001b[K     |███▌                            | 368 kB 14.8 MB/s eta 0:00:01\r\u001b[K     |███▋                            | 378 kB 14.8 MB/s eta 0:00:01\r\u001b[K     |███▊                            | 389 kB 14.8 MB/s eta 0:00:01\r\u001b[K     |███▉                            | 399 kB 14.8 MB/s eta 0:00:01\r\u001b[K     |████                            | 409 kB 14.8 MB/s eta 0:00:01\r\u001b[K     |████                            | 419 kB 14.8 MB/s eta 0:00:01\r\u001b[K     |████                            | 430 kB 14.8 MB/s eta 0:00:01\r\u001b[K     |████▏                           | 440 kB 14.8 MB/s eta 0:00:01\r\u001b[K     |████▎                           | 450 kB 14.8 MB/s eta 0:00:01\r\u001b[K     |████▍                           | 460 kB 14.8 MB/s eta 0:00:01\r\u001b[K     |████▌                           | 471 kB 14.8 MB/s eta 0:00:01\r\u001b[K     |████▋                           | 481 kB 14.8 MB/s eta 0:00:01\r\u001b[K     |████▊                           | 491 kB 14.8 MB/s eta 0:00:01\r\u001b[K     |████▉                           | 501 kB 14.8 MB/s eta 0:00:01\r\u001b[K     |████▉                           | 512 kB 14.8 MB/s eta 0:00:01\r\u001b[K     |█████                           | 522 kB 14.8 MB/s eta 0:00:01\r\u001b[K     |█████                           | 532 kB 14.8 MB/s eta 0:00:01\r\u001b[K     |█████▏                          | 542 kB 14.8 MB/s eta 0:00:01\r\u001b[K     |█████▎                          | 552 kB 14.8 MB/s eta 0:00:01\r\u001b[K     |█████▍                          | 563 kB 14.8 MB/s eta 0:00:01\r\u001b[K     |█████▌                          | 573 kB 14.8 MB/s eta 0:00:01\r\u001b[K     |█████▋                          | 583 kB 14.8 MB/s eta 0:00:01\r\u001b[K     |█████▋                          | 593 kB 14.8 MB/s eta 0:00:01\r\u001b[K     |█████▊                          | 604 kB 14.8 MB/s eta 0:00:01\r\u001b[K     |█████▉                          | 614 kB 14.8 MB/s eta 0:00:01\r\u001b[K     |██████                          | 624 kB 14.8 MB/s eta 0:00:01\r\u001b[K     |██████                          | 634 kB 14.8 MB/s eta 0:00:01\r\u001b[K     |██████▏                         | 645 kB 14.8 MB/s eta 0:00:01\r\u001b[K     |██████▎                         | 655 kB 14.8 MB/s eta 0:00:01\r\u001b[K     |██████▍                         | 665 kB 14.8 MB/s eta 0:00:01\r\u001b[K     |██████▌                         | 675 kB 14.8 MB/s eta 0:00:01\r\u001b[K     |██████▌                         | 686 kB 14.8 MB/s eta 0:00:01\r\u001b[K     |██████▋                         | 696 kB 14.8 MB/s eta 0:00:01\r\u001b[K     |██████▊                         | 706 kB 14.8 MB/s eta 0:00:01\r\u001b[K     |██████▉                         | 716 kB 14.8 MB/s eta 0:00:01\r\u001b[K     |███████                         | 727 kB 14.8 MB/s eta 0:00:01\r\u001b[K     |███████                         | 737 kB 14.8 MB/s eta 0:00:01\r\u001b[K     |███████▏                        | 747 kB 14.8 MB/s eta 0:00:01\r\u001b[K     |███████▎                        | 757 kB 14.8 MB/s eta 0:00:01\r\u001b[K     |███████▎                        | 768 kB 14.8 MB/s eta 0:00:01\r\u001b[K     |███████▍                        | 778 kB 14.8 MB/s eta 0:00:01\r\u001b[K     |███████▌                        | 788 kB 14.8 MB/s eta 0:00:01\r\u001b[K     |███████▋                        | 798 kB 14.8 MB/s eta 0:00:01\r\u001b[K     |███████▊                        | 808 kB 14.8 MB/s eta 0:00:01\r\u001b[K     |███████▉                        | 819 kB 14.8 MB/s eta 0:00:01\r\u001b[K     |████████                        | 829 kB 14.8 MB/s eta 0:00:01\r\u001b[K     |████████                        | 839 kB 14.8 MB/s eta 0:00:01\r\u001b[K     |████████                        | 849 kB 14.8 MB/s eta 0:00:01\r\u001b[K     |████████▏                       | 860 kB 14.8 MB/s eta 0:00:01\r\u001b[K     |████████▎                       | 870 kB 14.8 MB/s eta 0:00:01\r\u001b[K     |████████▍                       | 880 kB 14.8 MB/s eta 0:00:01\r\u001b[K     |████████▌                       | 890 kB 14.8 MB/s eta 0:00:01\r\u001b[K     |████████▋                       | 901 kB 14.8 MB/s eta 0:00:01\r\u001b[K     |████████▊                       | 911 kB 14.8 MB/s eta 0:00:01\r\u001b[K     |████████▉                       | 921 kB 14.8 MB/s eta 0:00:01\r\u001b[K     |████████▉                       | 931 kB 14.8 MB/s eta 0:00:01\r\u001b[K     |█████████                       | 942 kB 14.8 MB/s eta 0:00:01\r\u001b[K     |█████████                       | 952 kB 14.8 MB/s eta 0:00:01\r\u001b[K     |█████████▏                      | 962 kB 14.8 MB/s eta 0:00:01\r\u001b[K     |█████████▎                      | 972 kB 14.8 MB/s eta 0:00:01\r\u001b[K     |█████████▍                      | 983 kB 14.8 MB/s eta 0:00:01\r\u001b[K     |█████████▌                      | 993 kB 14.8 MB/s eta 0:00:01\r\u001b[K     |█████████▋                      | 1.0 MB 14.8 MB/s eta 0:00:01\r\u001b[K     |█████████▊                      | 1.0 MB 14.8 MB/s eta 0:00:01\r\u001b[K     |█████████▊                      | 1.0 MB 14.8 MB/s eta 0:00:01\r\u001b[K     |█████████▉                      | 1.0 MB 14.8 MB/s eta 0:00:01\r\u001b[K     |██████████                      | 1.0 MB 14.8 MB/s eta 0:00:01\r\u001b[K     |██████████                      | 1.1 MB 14.8 MB/s eta 0:00:01\r\u001b[K     |██████████▏                     | 1.1 MB 14.8 MB/s eta 0:00:01\r\u001b[K     |██████████▎                     | 1.1 MB 14.8 MB/s eta 0:00:01\r\u001b[K     |██████████▍                     | 1.1 MB 14.8 MB/s eta 0:00:01\r\u001b[K     |██████████▌                     | 1.1 MB 14.8 MB/s eta 0:00:01\r\u001b[K     |██████████▌                     | 1.1 MB 14.8 MB/s eta 0:00:01\r\u001b[K     |██████████▋                     | 1.1 MB 14.8 MB/s eta 0:00:01\r\u001b[K     |██████████▊                     | 1.1 MB 14.8 MB/s eta 0:00:01\r\u001b[K     |██████████▉                     | 1.1 MB 14.8 MB/s eta 0:00:01\r\u001b[K     |███████████                     | 1.1 MB 14.8 MB/s eta 0:00:01\r\u001b[K     |███████████                     | 1.2 MB 14.8 MB/s eta 0:00:01\r\u001b[K     |███████████▏                    | 1.2 MB 14.8 MB/s eta 0:00:01\r\u001b[K     |███████████▎                    | 1.2 MB 14.8 MB/s eta 0:00:01\r\u001b[K     |███████████▎                    | 1.2 MB 14.8 MB/s eta 0:00:01\r\u001b[K     |███████████▍                    | 1.2 MB 14.8 MB/s eta 0:00:01\r\u001b[K     |███████████▌                    | 1.2 MB 14.8 MB/s eta 0:00:01\r\u001b[K     |███████████▋                    | 1.2 MB 14.8 MB/s eta 0:00:01\r\u001b[K     |███████████▊                    | 1.2 MB 14.8 MB/s eta 0:00:01\r\u001b[K     |███████████▉                    | 1.2 MB 14.8 MB/s eta 0:00:01\r\u001b[K     |████████████                    | 1.2 MB 14.8 MB/s eta 0:00:01\r\u001b[K     |████████████                    | 1.3 MB 14.8 MB/s eta 0:00:01\r\u001b[K     |████████████                    | 1.3 MB 14.8 MB/s eta 0:00:01\r\u001b[K     |████████████▏                   | 1.3 MB 14.8 MB/s eta 0:00:01\r\u001b[K     |████████████▎                   | 1.3 MB 14.8 MB/s eta 0:00:01\r\u001b[K     |████████████▍                   | 1.3 MB 14.8 MB/s eta 0:00:01\r\u001b[K     |████████████▌                   | 1.3 MB 14.8 MB/s eta 0:00:01\r\u001b[K     |████████████▋                   | 1.3 MB 14.8 MB/s eta 0:00:01\r\u001b[K     |████████████▊                   | 1.3 MB 14.8 MB/s eta 0:00:01\r\u001b[K     |████████████▉                   | 1.3 MB 14.8 MB/s eta 0:00:01\r\u001b[K     |█████████████                   | 1.4 MB 14.8 MB/s eta 0:00:01\r\u001b[K     |█████████████                   | 1.4 MB 14.8 MB/s eta 0:00:01\r\u001b[K     |█████████████                   | 1.4 MB 14.8 MB/s eta 0:00:01\r\u001b[K     |█████████████▏                  | 1.4 MB 14.8 MB/s eta 0:00:01\r\u001b[K     |█████████████▎                  | 1.4 MB 14.8 MB/s eta 0:00:01\r\u001b[K     |█████████████▍                  | 1.4 MB 14.8 MB/s eta 0:00:01\r\u001b[K     |█████████████▌                  | 1.4 MB 14.8 MB/s eta 0:00:01\r\u001b[K     |█████████████▋                  | 1.4 MB 14.8 MB/s eta 0:00:01\r\u001b[K     |█████████████▊                  | 1.4 MB 14.8 MB/s eta 0:00:01\r\u001b[K     |█████████████▊                  | 1.4 MB 14.8 MB/s eta 0:00:01\r\u001b[K     |█████████████▉                  | 1.5 MB 14.8 MB/s eta 0:00:01\r\u001b[K     |██████████████                  | 1.5 MB 14.8 MB/s eta 0:00:01\r\u001b[K     |██████████████                  | 1.5 MB 14.8 MB/s eta 0:00:01\r\u001b[K     |██████████████▏                 | 1.5 MB 14.8 MB/s eta 0:00:01\r\u001b[K     |██████████████▎                 | 1.5 MB 14.8 MB/s eta 0:00:01\r\u001b[K     |██████████████▍                 | 1.5 MB 14.8 MB/s eta 0:00:01\r\u001b[K     |██████████████▌                 | 1.5 MB 14.8 MB/s eta 0:00:01\r\u001b[K     |██████████████▌                 | 1.5 MB 14.8 MB/s eta 0:00:01\r\u001b[K     |██████████████▋                 | 1.5 MB 14.8 MB/s eta 0:00:01\r\u001b[K     |██████████████▊                 | 1.5 MB 14.8 MB/s eta 0:00:01\r\u001b[K     |██████████████▉                 | 1.6 MB 14.8 MB/s eta 0:00:01\r\u001b[K     |███████████████                 | 1.6 MB 14.8 MB/s eta 0:00:01\r\u001b[K     |███████████████                 | 1.6 MB 14.8 MB/s eta 0:00:01\r\u001b[K     |███████████████▏                | 1.6 MB 14.8 MB/s eta 0:00:01\r\u001b[K     |███████████████▎                | 1.6 MB 14.8 MB/s eta 0:00:01\r\u001b[K     |███████████████▎                | 1.6 MB 14.8 MB/s eta 0:00:01\r\u001b[K     |███████████████▍                | 1.6 MB 14.8 MB/s eta 0:00:01\r\u001b[K     |███████████████▌                | 1.6 MB 14.8 MB/s eta 0:00:01\r\u001b[K     |███████████████▋                | 1.6 MB 14.8 MB/s eta 0:00:01\r\u001b[K     |███████████████▊                | 1.6 MB 14.8 MB/s eta 0:00:01\r\u001b[K     |███████████████▉                | 1.7 MB 14.8 MB/s eta 0:00:01\r\u001b[K     |████████████████                | 1.7 MB 14.8 MB/s eta 0:00:01\r\u001b[K     |████████████████                | 1.7 MB 14.8 MB/s eta 0:00:01\r\u001b[K     |████████████████▏               | 1.7 MB 14.8 MB/s eta 0:00:01\r\u001b[K     |████████████████▏               | 1.7 MB 14.8 MB/s eta 0:00:01\r\u001b[K     |████████████████▎               | 1.7 MB 14.8 MB/s eta 0:00:01\r\u001b[K     |████████████████▍               | 1.7 MB 14.8 MB/s eta 0:00:01\r\u001b[K     |████████████████▌               | 1.7 MB 14.8 MB/s eta 0:00:01\r\u001b[K     |████████████████▋               | 1.7 MB 14.8 MB/s eta 0:00:01\r\u001b[K     |████████████████▊               | 1.8 MB 14.8 MB/s eta 0:00:01\r\u001b[K     |████████████████▉               | 1.8 MB 14.8 MB/s eta 0:00:01\r\u001b[K     |█████████████████               | 1.8 MB 14.8 MB/s eta 0:00:01\r\u001b[K     |█████████████████               | 1.8 MB 14.8 MB/s eta 0:00:01\r\u001b[K     |█████████████████               | 1.8 MB 14.8 MB/s eta 0:00:01\r\u001b[K     |█████████████████▏              | 1.8 MB 14.8 MB/s eta 0:00:01\r\u001b[K     |█████████████████▎              | 1.8 MB 14.8 MB/s eta 0:00:01\r\u001b[K     |█████████████████▍              | 1.8 MB 14.8 MB/s eta 0:00:01\r\u001b[K     |█████████████████▌              | 1.8 MB 14.8 MB/s eta 0:00:01\r\u001b[K     |█████████████████▋              | 1.8 MB 14.8 MB/s eta 0:00:01\r\u001b[K     |█████████████████▊              | 1.9 MB 14.8 MB/s eta 0:00:01\r\u001b[K     |█████████████████▊              | 1.9 MB 14.8 MB/s eta 0:00:01\r\u001b[K     |█████████████████▉              | 1.9 MB 14.8 MB/s eta 0:00:01\r\u001b[K     |██████████████████              | 1.9 MB 14.8 MB/s eta 0:00:01\r\u001b[K     |██████████████████              | 1.9 MB 14.8 MB/s eta 0:00:01\r\u001b[K     |██████████████████▏             | 1.9 MB 14.8 MB/s eta 0:00:01\r\u001b[K     |██████████████████▎             | 1.9 MB 14.8 MB/s eta 0:00:01\r\u001b[K     |██████████████████▍             | 1.9 MB 14.8 MB/s eta 0:00:01\r\u001b[K     |██████████████████▌             | 1.9 MB 14.8 MB/s eta 0:00:01\r\u001b[K     |██████████████████▌             | 1.9 MB 14.8 MB/s eta 0:00:01\r\u001b[K     |██████████████████▋             | 2.0 MB 14.8 MB/s eta 0:00:01\r\u001b[K     |██████████████████▊             | 2.0 MB 14.8 MB/s eta 0:00:01\r\u001b[K     |██████████████████▉             | 2.0 MB 14.8 MB/s eta 0:00:01\r\u001b[K     |███████████████████             | 2.0 MB 14.8 MB/s eta 0:00:01\r\u001b[K     |███████████████████             | 2.0 MB 14.8 MB/s eta 0:00:01\r\u001b[K     |███████████████████▏            | 2.0 MB 14.8 MB/s eta 0:00:01\r\u001b[K     |███████████████████▎            | 2.0 MB 14.8 MB/s eta 0:00:01\r\u001b[K     |███████████████████▍            | 2.0 MB 14.8 MB/s eta 0:00:01\r\u001b[K     |███████████████████▍            | 2.0 MB 14.8 MB/s eta 0:00:01\r\u001b[K     |███████████████████▌            | 2.0 MB 14.8 MB/s eta 0:00:01\r\u001b[K     |███████████████████▋            | 2.1 MB 14.8 MB/s eta 0:00:01\r\u001b[K     |███████████████████▊            | 2.1 MB 14.8 MB/s eta 0:00:01\r\u001b[K     |███████████████████▉            | 2.1 MB 14.8 MB/s eta 0:00:01\r\u001b[K     |████████████████████            | 2.1 MB 14.8 MB/s eta 0:00:01\r\u001b[K     |████████████████████            | 2.1 MB 14.8 MB/s eta 0:00:01\r\u001b[K     |████████████████████▏           | 2.1 MB 14.8 MB/s eta 0:00:01\r\u001b[K     |████████████████████▏           | 2.1 MB 14.8 MB/s eta 0:00:01\r\u001b[K     |████████████████████▎           | 2.1 MB 14.8 MB/s eta 0:00:01\r\u001b[K     |████████████████████▍           | 2.1 MB 14.8 MB/s eta 0:00:01\r\u001b[K     |████████████████████▌           | 2.2 MB 14.8 MB/s eta 0:00:01\r\u001b[K     |████████████████████▋           | 2.2 MB 14.8 MB/s eta 0:00:01\r\u001b[K     |████████████████████▊           | 2.2 MB 14.8 MB/s eta 0:00:01\r\u001b[K     |████████████████████▉           | 2.2 MB 14.8 MB/s eta 0:00:01\r\u001b[K     |█████████████████████           | 2.2 MB 14.8 MB/s eta 0:00:01\r\u001b[K     |█████████████████████           | 2.2 MB 14.8 MB/s eta 0:00:01\r\u001b[K     |█████████████████████           | 2.2 MB 14.8 MB/s eta 0:00:01\r\u001b[K     |█████████████████████▏          | 2.2 MB 14.8 MB/s eta 0:00:01\r\u001b[K     |█████████████████████▎          | 2.2 MB 14.8 MB/s eta 0:00:01\r\u001b[K     |█████████████████████▍          | 2.2 MB 14.8 MB/s eta 0:00:01\r\u001b[K     |█████████████████████▌          | 2.3 MB 14.8 MB/s eta 0:00:01\r\u001b[K     |█████████████████████▋          | 2.3 MB 14.8 MB/s eta 0:00:01\r\u001b[K     |█████████████████████▊          | 2.3 MB 14.8 MB/s eta 0:00:01\r\u001b[K     |█████████████████████▊          | 2.3 MB 14.8 MB/s eta 0:00:01\r\u001b[K     |█████████████████████▉          | 2.3 MB 14.8 MB/s eta 0:00:01\r\u001b[K     |██████████████████████          | 2.3 MB 14.8 MB/s eta 0:00:01\r\u001b[K     |██████████████████████          | 2.3 MB 14.8 MB/s eta 0:00:01\r\u001b[K     |██████████████████████▏         | 2.3 MB 14.8 MB/s eta 0:00:01\r\u001b[K     |██████████████████████▎         | 2.3 MB 14.8 MB/s eta 0:00:01\r\u001b[K     |██████████████████████▍         | 2.3 MB 14.8 MB/s eta 0:00:01\r\u001b[K     |██████████████████████▌         | 2.4 MB 14.8 MB/s eta 0:00:01\r\u001b[K     |██████████████████████▋         | 2.4 MB 14.8 MB/s eta 0:00:01\r\u001b[K     |██████████████████████▋         | 2.4 MB 14.8 MB/s eta 0:00:01\r\u001b[K     |██████████████████████▊         | 2.4 MB 14.8 MB/s eta 0:00:01\r\u001b[K     |██████████████████████▉         | 2.4 MB 14.8 MB/s eta 0:00:01\r\u001b[K     |███████████████████████         | 2.4 MB 14.8 MB/s eta 0:00:01\r\u001b[K     |███████████████████████         | 2.4 MB 14.8 MB/s eta 0:00:01\r\u001b[K     |███████████████████████▏        | 2.4 MB 14.8 MB/s eta 0:00:01\r\u001b[K     |███████████████████████▎        | 2.4 MB 14.8 MB/s eta 0:00:01\r\u001b[K     |███████████████████████▍        | 2.4 MB 14.8 MB/s eta 0:00:01\r\u001b[K     |███████████████████████▍        | 2.5 MB 14.8 MB/s eta 0:00:01\r\u001b[K     |███████████████████████▌        | 2.5 MB 14.8 MB/s eta 0:00:01\r\u001b[K     |███████████████████████▋        | 2.5 MB 14.8 MB/s eta 0:00:01\r\u001b[K     |███████████████████████▊        | 2.5 MB 14.8 MB/s eta 0:00:01\r\u001b[K     |███████████████████████▉        | 2.5 MB 14.8 MB/s eta 0:00:01\r\u001b[K     |████████████████████████        | 2.5 MB 14.8 MB/s eta 0:00:01\r\u001b[K     |████████████████████████        | 2.5 MB 14.8 MB/s eta 0:00:01\r\u001b[K     |████████████████████████▏       | 2.5 MB 14.8 MB/s eta 0:00:01\r\u001b[K     |████████████████████████▏       | 2.5 MB 14.8 MB/s eta 0:00:01\r\u001b[K     |████████████████████████▎       | 2.5 MB 14.8 MB/s eta 0:00:01\r\u001b[K     |████████████████████████▍       | 2.6 MB 14.8 MB/s eta 0:00:01\r\u001b[K     |████████████████████████▌       | 2.6 MB 14.8 MB/s eta 0:00:01\r\u001b[K     |████████████████████████▋       | 2.6 MB 14.8 MB/s eta 0:00:01\r\u001b[K     |████████████████████████▊       | 2.6 MB 14.8 MB/s eta 0:00:01\r\u001b[K     |████████████████████████▉       | 2.6 MB 14.8 MB/s eta 0:00:01\r\u001b[K     |█████████████████████████       | 2.6 MB 14.8 MB/s eta 0:00:01\r\u001b[K     |█████████████████████████       | 2.6 MB 14.8 MB/s eta 0:00:01\r\u001b[K     |█████████████████████████       | 2.6 MB 14.8 MB/s eta 0:00:01\r\u001b[K     |█████████████████████████▏      | 2.6 MB 14.8 MB/s eta 0:00:01\r\u001b[K     |█████████████████████████▎      | 2.7 MB 14.8 MB/s eta 0:00:01\r\u001b[K     |█████████████████████████▍      | 2.7 MB 14.8 MB/s eta 0:00:01\r\u001b[K     |█████████████████████████▌      | 2.7 MB 14.8 MB/s eta 0:00:01\r\u001b[K     |█████████████████████████▋      | 2.7 MB 14.8 MB/s eta 0:00:01\r\u001b[K     |█████████████████████████▊      | 2.7 MB 14.8 MB/s eta 0:00:01\r\u001b[K     |█████████████████████████▉      | 2.7 MB 14.8 MB/s eta 0:00:01\r\u001b[K     |█████████████████████████▉      | 2.7 MB 14.8 MB/s eta 0:00:01\r\u001b[K     |██████████████████████████      | 2.7 MB 14.8 MB/s eta 0:00:01\r\u001b[K     |██████████████████████████      | 2.7 MB 14.8 MB/s eta 0:00:01\r\u001b[K     |██████████████████████████▏     | 2.7 MB 14.8 MB/s eta 0:00:01\r\u001b[K     |██████████████████████████▎     | 2.8 MB 14.8 MB/s eta 0:00:01\r\u001b[K     |██████████████████████████▍     | 2.8 MB 14.8 MB/s eta 0:00:01\r\u001b[K     |██████████████████████████▌     | 2.8 MB 14.8 MB/s eta 0:00:01\r\u001b[K     |██████████████████████████▋     | 2.8 MB 14.8 MB/s eta 0:00:01\r\u001b[K     |██████████████████████████▋     | 2.8 MB 14.8 MB/s eta 0:00:01\r\u001b[K     |██████████████████████████▊     | 2.8 MB 14.8 MB/s eta 0:00:01\r\u001b[K     |██████████████████████████▉     | 2.8 MB 14.8 MB/s eta 0:00:01\r\u001b[K     |███████████████████████████     | 2.8 MB 14.8 MB/s eta 0:00:01\r\u001b[K     |███████████████████████████     | 2.8 MB 14.8 MB/s eta 0:00:01\r\u001b[K     |███████████████████████████▏    | 2.8 MB 14.8 MB/s eta 0:00:01\r\u001b[K     |███████████████████████████▎    | 2.9 MB 14.8 MB/s eta 0:00:01\r\u001b[K     |███████████████████████████▍    | 2.9 MB 14.8 MB/s eta 0:00:01\r\u001b[K     |███████████████████████████▍    | 2.9 MB 14.8 MB/s eta 0:00:01\r\u001b[K     |███████████████████████████▌    | 2.9 MB 14.8 MB/s eta 0:00:01\r\u001b[K     |███████████████████████████▋    | 2.9 MB 14.8 MB/s eta 0:00:01\r\u001b[K     |███████████████████████████▊    | 2.9 MB 14.8 MB/s eta 0:00:01\r\u001b[K     |███████████████████████████▉    | 2.9 MB 14.8 MB/s eta 0:00:01\r\u001b[K     |████████████████████████████    | 2.9 MB 14.8 MB/s eta 0:00:01\r\u001b[K     |████████████████████████████    | 2.9 MB 14.8 MB/s eta 0:00:01\r\u001b[K     |████████████████████████████▏   | 2.9 MB 14.8 MB/s eta 0:00:01\r\u001b[K     |████████████████████████████▏   | 3.0 MB 14.8 MB/s eta 0:00:01\r\u001b[K     |████████████████████████████▎   | 3.0 MB 14.8 MB/s eta 0:00:01\r\u001b[K     |████████████████████████████▍   | 3.0 MB 14.8 MB/s eta 0:00:01\r\u001b[K     |████████████████████████████▌   | 3.0 MB 14.8 MB/s eta 0:00:01\r\u001b[K     |████████████████████████████▋   | 3.0 MB 14.8 MB/s eta 0:00:01\r\u001b[K     |████████████████████████████▊   | 3.0 MB 14.8 MB/s eta 0:00:01\r\u001b[K     |████████████████████████████▉   | 3.0 MB 14.8 MB/s eta 0:00:01\r\u001b[K     |█████████████████████████████   | 3.0 MB 14.8 MB/s eta 0:00:01\r\u001b[K     |█████████████████████████████   | 3.0 MB 14.8 MB/s eta 0:00:01\r\u001b[K     |█████████████████████████████   | 3.1 MB 14.8 MB/s eta 0:00:01\r\u001b[K     |█████████████████████████████▏  | 3.1 MB 14.8 MB/s eta 0:00:01\r\u001b[K     |█████████████████████████████▎  | 3.1 MB 14.8 MB/s eta 0:00:01\r\u001b[K     |█████████████████████████████▍  | 3.1 MB 14.8 MB/s eta 0:00:01\r\u001b[K     |█████████████████████████████▌  | 3.1 MB 14.8 MB/s eta 0:00:01\r\u001b[K     |█████████████████████████████▋  | 3.1 MB 14.8 MB/s eta 0:00:01\r\u001b[K     |█████████████████████████████▊  | 3.1 MB 14.8 MB/s eta 0:00:01\r\u001b[K     |█████████████████████████████▉  | 3.1 MB 14.8 MB/s eta 0:00:01\r\u001b[K     |█████████████████████████████▉  | 3.1 MB 14.8 MB/s eta 0:00:01\r\u001b[K     |██████████████████████████████  | 3.1 MB 14.8 MB/s eta 0:00:01\r\u001b[K     |██████████████████████████████  | 3.2 MB 14.8 MB/s eta 0:00:01\r\u001b[K     |██████████████████████████████▏ | 3.2 MB 14.8 MB/s eta 0:00:01\r\u001b[K     |██████████████████████████████▎ | 3.2 MB 14.8 MB/s eta 0:00:01\r\u001b[K     |██████████████████████████████▍ | 3.2 MB 14.8 MB/s eta 0:00:01\r\u001b[K     |██████████████████████████████▌ | 3.2 MB 14.8 MB/s eta 0:00:01\r\u001b[K     |██████████████████████████████▋ | 3.2 MB 14.8 MB/s eta 0:00:01\r\u001b[K     |██████████████████████████████▋ | 3.2 MB 14.8 MB/s eta 0:00:01\r\u001b[K     |██████████████████████████████▊ | 3.2 MB 14.8 MB/s eta 0:00:01\r\u001b[K     |██████████████████████████████▉ | 3.2 MB 14.8 MB/s eta 0:00:01\r\u001b[K     |███████████████████████████████ | 3.2 MB 14.8 MB/s eta 0:00:01\r\u001b[K     |███████████████████████████████ | 3.3 MB 14.8 MB/s eta 0:00:01\r\u001b[K     |███████████████████████████████▏| 3.3 MB 14.8 MB/s eta 0:00:01\r\u001b[K     |███████████████████████████████▎| 3.3 MB 14.8 MB/s eta 0:00:01\r\u001b[K     |███████████████████████████████▍| 3.3 MB 14.8 MB/s eta 0:00:01\r\u001b[K     |███████████████████████████████▍| 3.3 MB 14.8 MB/s eta 0:00:01\r\u001b[K     |███████████████████████████████▌| 3.3 MB 14.8 MB/s eta 0:00:01\r\u001b[K     |███████████████████████████████▋| 3.3 MB 14.8 MB/s eta 0:00:01\r\u001b[K     |███████████████████████████████▊| 3.3 MB 14.8 MB/s eta 0:00:01\r\u001b[K     |███████████████████████████████▉| 3.3 MB 14.8 MB/s eta 0:00:01\r\u001b[K     |████████████████████████████████| 3.3 MB 14.8 MB/s eta 0:00:01\r\u001b[K     |████████████████████████████████| 3.4 MB 14.8 MB/s \n",
            "\u001b[K     |████████████████████████████████| 170 kB 76.0 MB/s \n",
            "\u001b[K     |████████████████████████████████| 416 kB 64.8 MB/s \n",
            "\u001b[K     |████████████████████████████████| 3.3 MB 56.7 MB/s \n",
            "\u001b[K     |████████████████████████████████| 596 kB 65.8 MB/s \n",
            "\u001b[K     |████████████████████████████████| 895 kB 68.8 MB/s \n",
            "\u001b[K     |████████████████████████████████| 61 kB 669 kB/s \n",
            "\u001b[?25h  Building wheel for emoji (setup.py) ... \u001b[?25l\u001b[?25hdone\n",
            "\u001b[K     / 16.3 MB 5.3 MB/s\n",
            "\u001b[?25h  Installing build dependencies ... \u001b[?25l\u001b[?25hdone\n",
            "  Getting requirements to build wheel ... \u001b[?25l\u001b[?25hdone\n",
            "    Preparing wheel metadata ... \u001b[?25l\u001b[?25hdone\n",
            "\u001b[K     |████████████████████████████████| 332 kB 14.4 MB/s \n",
            "\u001b[K     |████████████████████████████████| 132 kB 52.9 MB/s \n",
            "\u001b[K     |████████████████████████████████| 1.1 MB 68.7 MB/s \n",
            "\u001b[K     |████████████████████████████████| 192 kB 76.9 MB/s \n",
            "\u001b[K     |████████████████████████████████| 271 kB 77.2 MB/s \n",
            "\u001b[K     |████████████████████████████████| 160 kB 75.9 MB/s \n",
            "\u001b[?25h  Building wheel for pytorch-lightning (PEP 517) ... \u001b[?25l\u001b[?25hdone\n",
            "\u001b[31mERROR: pip's dependency resolver does not currently take into account all the packages that are installed. This behaviour is the source of the following dependency conflicts.\n",
            "arviz 0.11.4 requires typing-extensions<4,>=3.7.4.3, but you have typing-extensions 4.0.1 which is incompatible.\u001b[0m\n"
          ]
        }
      ]
    },
    {
      "cell_type": "markdown",
      "metadata": {
        "id": "PLh_ziVCHwkH"
      },
      "source": [
        "# 패키지 import & 기본 Args 설정"
      ]
    },
    {
      "cell_type": "code",
      "source": [
        "\n",
        "from torch.utils.data import Dataset, DataLoader, TensorDataset"
      ],
      "metadata": {
        "id": "ILXNBUtZu1L7"
      },
      "execution_count": 43,
      "outputs": []
    },
    {
      "cell_type": "code",
      "metadata": {
        "id": "Yb0113DUFE1k"
      },
      "source": [
        "import os\n",
        "import pandas as pd\n",
        "\n",
        "from pprint import pprint\n",
        "\n",
        "import torch\n",
        "from torch.utils.data import Dataset, DataLoader, TensorDataset\n",
        "from torch.optim.lr_scheduler import ExponentialLR\n",
        "\n",
        "from pytorch_lightning import LightningModule, Trainer, seed_everything\n",
        "\n",
        "from transformers import BertForSequenceClassification, BertTokenizer, AdamW\n",
        "\n",
        "from sklearn.metrics import accuracy_score, precision_score, recall_score, f1_score\n",
        "\n",
        "import re\n",
        "import emoji\n",
        "from soynlp.normalizer import repeat_normalize"
      ],
      "execution_count": 13,
      "outputs": []
    },
    {
      "cell_type": "markdown",
      "metadata": {
        "id": "dN1zqYeKH2JZ"
      },
      "source": [
        "## 기본 학습 Arguments"
      ]
    },
    {
      "cell_type": "code",
      "source": [
        "args = {\n",
        "    'random_seed': 42, # Random Seed\n",
        "    'pretrained_model': 'beomi/kcbert-base',  # Transformers PLM name\n",
        "    'pretrained_tokenizer': '',  # Optional, Transformers Tokenizer Name. Overrides `pretrained_model`\n",
        "    'batch_size': 32,\n",
        "    'lr': 5e-6,  # Starting Learning Rate\n",
        "    'epochs': 1,  # Max Epochs\n",
        "    'max_length': 150,  # Max Length input size\n",
        "    'train_data_path': \"train.txt\",  # Train Dataset file \n",
        "    'val_data_path': \"test.txt\",  # Validation Dataset file \n",
        "    'test_mode': True,  # Test Mode enables `fast_dev_run`\n",
        "    'optimizer': 'AdamW',  # AdamW vs AdamP\n",
        "    'lr_scheduler': 'exp',  # ExponentialLR vs CosineAnnealingWarmRestarts\n",
        "    'fp16': True,  # Enable train on FP16\n",
        "    'tpu_cores': 0,  # Enable TPU with 1 core or 8 cores\n",
        "    'cpu_workers': 4,\n",
        "}"
      ],
      "metadata": {
        "id": "KhUxzk6-nFiM"
      },
      "execution_count": 34,
      "outputs": []
    },
    {
      "cell_type": "code",
      "metadata": {
        "colab": {
          "base_uri": "https://localhost:8080/"
        },
        "id": "23Nf_fc9sesX",
        "outputId": "e49c8da0-f25c-4960-dec1-b3818b5c8114"
      },
      "source": [
        "args"
      ],
      "execution_count": 35,
      "outputs": [
        {
          "output_type": "execute_result",
          "data": {
            "text/plain": [
              "{'batch_size': 32,\n",
              " 'cpu_workers': 4,\n",
              " 'epochs': 1,\n",
              " 'fp16': True,\n",
              " 'lr': 5e-06,\n",
              " 'lr_scheduler': 'exp',\n",
              " 'max_length': 150,\n",
              " 'optimizer': 'AdamW',\n",
              " 'pretrained_model': 'beomi/kcbert-base',\n",
              " 'pretrained_tokenizer': '',\n",
              " 'random_seed': 42,\n",
              " 'test_mode': True,\n",
              " 'tpu_cores': 0,\n",
              " 'train_data_path': 'train.txt',\n",
              " 'val_data_path': 'test.txt'}"
            ]
          },
          "metadata": {},
          "execution_count": 35
        }
      ]
    },
    {
      "cell_type": "markdown",
      "metadata": {
        "id": "kmD2BQV9H8UQ"
      },
      "source": [
        "## 기본값을 Override 하고싶은 경우 아래와 같이 수정"
      ]
    },
    {
      "cell_type": "code",
      "metadata": {
        "colab": {
          "base_uri": "https://localhost:8080/"
        },
        "id": "8w2Xgj8DI1-1",
        "outputId": "da3d615d-73e8-48df-e54d-f7af71ef075a"
      },
      "source": [
        "!nvidia-smi"
      ],
      "execution_count": 16,
      "outputs": [
        {
          "output_type": "stream",
          "name": "stdout",
          "text": [
            "Sun Jan  9 11:30:36 2022       \n",
            "+-----------------------------------------------------------------------------+\n",
            "| NVIDIA-SMI 495.44       Driver Version: 460.32.03    CUDA Version: 11.2     |\n",
            "|-------------------------------+----------------------+----------------------+\n",
            "| GPU  Name        Persistence-M| Bus-Id        Disp.A | Volatile Uncorr. ECC |\n",
            "| Fan  Temp  Perf  Pwr:Usage/Cap|         Memory-Usage | GPU-Util  Compute M. |\n",
            "|                               |                      |               MIG M. |\n",
            "|===============================+======================+======================|\n",
            "|   0  Tesla P100-PCIE...  Off  | 00000000:00:04.0 Off |                    0 |\n",
            "| N/A   33C    P0    26W / 250W |      0MiB / 16280MiB |      0%      Default |\n",
            "|                               |                      |                  N/A |\n",
            "+-------------------------------+----------------------+----------------------+\n",
            "                                                                               \n",
            "+-----------------------------------------------------------------------------+\n",
            "| Processes:                                                                  |\n",
            "|  GPU   GI   CI        PID   Type   Process name                  GPU Memory |\n",
            "|        ID   ID                                                   Usage      |\n",
            "|=============================================================================|\n",
            "|  No running processes found                                                 |\n",
            "+-----------------------------------------------------------------------------+\n"
          ]
        }
      ]
    },
    {
      "cell_type": "markdown",
      "metadata": {
        "id": "h2AcwMYa3nmd"
      },
      "source": [
        "# Model 만들기 with Pytorch Lightning"
      ]
    },
    {
      "cell_type": "code",
      "metadata": {
        "id": "ImupuGXDGq7b"
      },
      "source": [
        "class Model(LightningModule):\n",
        "    def __init__(self, **kwargs):\n",
        "        super().__init__()\n",
        "        self.save_hyperparameters() # 이 부분에서 self.hparams에 위 kwargs가 저장된다.\n",
        "        \n",
        "        self.bert = BertForSequenceClassification.from_pretrained(self.hparams.pretrained_model)\n",
        "        self.tokenizer = BertTokenizer.from_pretrained(\n",
        "            self.hparams.pretrained_tokenizer\n",
        "            if self.hparams.pretrained_tokenizer\n",
        "            else self.hparams.pretrained_model\n",
        "        )\n",
        "\n",
        "    def forward(self, **kwargs):\n",
        "        return self.bert(**kwargs)\n",
        "\n",
        "    def step(self, batch, batch_idx):\n",
        "        data, labels = batch\n",
        "        output = self(input_ids=data, labels=labels)\n",
        "\n",
        "        # Transformers 4.0.0+\n",
        "        loss = output.loss\n",
        "        logits = output.logits\n",
        "\n",
        "        preds = logits.argmax(dim=-1)\n",
        "\n",
        "        y_true = list(labels.cpu().numpy())\n",
        "        y_pred = list(preds.cpu().numpy())\n",
        "        #y_logit = list(logits.cpu().numpy())\n",
        "\n",
        "        return {\n",
        "            'loss': loss,\n",
        "            'y_true': y_true,\n",
        "            'y_pred': y_pred,\n",
        "            'y_logit': logits\n",
        "        }\n",
        "\n",
        "    def training_step(self, batch, batch_idx):\n",
        "        return self.step(batch, batch_idx)\n",
        "\n",
        "    def validation_step(self, batch, batch_idx):\n",
        "        return self.step(batch, batch_idx)\n",
        "\n",
        "    def epoch_end(self, outputs, state='train'):\n",
        "        loss = torch.tensor(0, dtype=torch.float)\n",
        "        for i in outputs:\n",
        "            loss += i['loss'].cpu().detach()\n",
        "        loss = loss / len(outputs)\n",
        "\n",
        "        y_true = []\n",
        "        y_pred = []\n",
        "        y_logit = []\n",
        "        for i in outputs:\n",
        "            y_true += i['y_true']\n",
        "            y_pred += i['y_pred']\n",
        "            y_logit += i['y_logit']\n",
        "            \n",
        "        self.log(state+'_loss', float(loss), on_epoch=True, prog_bar=True)\n",
        "        self.log(state+'_acc', accuracy_score(y_true, y_pred), on_epoch=True, prog_bar=True)\n",
        "        self.log(state+'_precision', precision_score(y_true, y_pred), on_epoch=True, prog_bar=True)\n",
        "        self.log(state+'_recall', recall_score(y_true, y_pred), on_epoch=True, prog_bar=True)\n",
        "        self.log(state+'_f1', f1_score(y_true, y_pred), on_epoch=True, prog_bar=True)\n",
        "        return {'loss': loss}\n",
        "    \n",
        "    def train_epoch_end(self, outputs):\n",
        "        return self.epoch_end(outputs, state='train')\n",
        "\n",
        "    def validation_epoch_end(self, outputs):\n",
        "        return self.epoch_end(outputs, state='val')\n",
        "\n",
        "    def configure_optimizers(self):\n",
        "        if self.hparams.optimizer == 'AdamW':\n",
        "            optimizer = AdamW(self.parameters(), lr=self.hparams.lr)\n",
        "        elif self.hparams.optimizer == 'AdamP':\n",
        "            from adamp import AdamP\n",
        "            optimizer = AdamP(self.parameters(), lr=self.hparams.lr)\n",
        "        else:\n",
        "            raise NotImplementedError('Only AdamW and AdamP is Supported!')\n",
        "        if self.hparams.lr_scheduler == 'cos':\n",
        "            scheduler = CosineAnnealingWarmRestarts(optimizer, T_0=1, T_mult=2)\n",
        "        elif self.hparams.lr_scheduler == 'exp':\n",
        "            scheduler = ExponentialLR(optimizer, gamma=0.5)\n",
        "        else:\n",
        "            raise NotImplementedError('Only cos and exp lr scheduler is Supported!')\n",
        "        return {\n",
        "            'optimizer': optimizer,\n",
        "            'scheduler': scheduler,\n",
        "        }\n",
        "\n",
        "    def read_data(self, path):\n",
        "        if path.endswith('xlsx'):\n",
        "            return pd.read_excel(path)\n",
        "        elif path.endswith('csv'):\n",
        "            return pd.read_csv(path)\n",
        "        elif path.endswith('tsv') or path.endswith('txt'):\n",
        "            return pd.read_csv(path, sep='\\t')\n",
        "        else:\n",
        "            raise NotImplementedError('Only Excel(xlsx)/Csv/Tsv(txt) are Supported')\n",
        "\n",
        "    def preprocess_dataframe(self, df):\n",
        "        emojis = ''.join(emoji.UNICODE_EMOJI.keys())\n",
        "        pattern = re.compile(f'[^ .,?!/@$%~％·∼()\\x00-\\x7Fㄱ-힣{emojis}]+')\n",
        "        url_pattern = re.compile(\n",
        "            r'https?:\\/\\/(www\\.)?[-a-zA-Z0-9@:%._\\+~#=]{1,256}\\.[a-zA-Z0-9()]{1,6}\\b([-a-zA-Z0-9()@:%_\\+.~#?&//=]*)')\n",
        "\n",
        "        def clean(x):\n",
        "            x = pattern.sub(' ', x)\n",
        "            x = url_pattern.sub('', x)\n",
        "            x = x.strip()\n",
        "            x = repeat_normalize(x, num_repeats=2)\n",
        "            return x\n",
        "\n",
        "        df['review'] = df['review'].map(lambda x: self.tokenizer.encode(\n",
        "            clean(str(x)),\n",
        "            padding='max_length',\n",
        "            max_length=self.hparams.max_length,\n",
        "            truncation=True,\n",
        "        ))\n",
        "        return df\n",
        "\n",
        "    def dataloader(self, path, shuffle=False):\n",
        "        df = self.read_data(path)\n",
        "        df = self.preprocess_dataframe(df)\n",
        "\n",
        "        dataset = TensorDataset(\n",
        "            torch.tensor(df['review'].to_list(), dtype=torch.long),\n",
        "            torch.tensor(df['label'].to_list(), dtype=torch.long),\n",
        "        )\n",
        "        return DataLoader(\n",
        "            dataset,\n",
        "            batch_size=self.hparams.batch_size or self.batch_size,\n",
        "            shuffle=shuffle,\n",
        "            num_workers=self.hparams.cpu_workers,\n",
        "        )\n",
        "\n",
        "    def train_dataloader(self):\n",
        "        return self.dataloader(self.hparams.train_data_path, shuffle=True)\n",
        "\n",
        "    def val_dataloader(self):\n",
        "        return self.dataloader(self.hparams.val_data_path, shuffle=False)\n"
      ],
      "execution_count": 20,
      "outputs": []
    },
    {
      "cell_type": "code",
      "source": [
        ""
      ],
      "metadata": {
        "id": "AIgNm9bQubpM"
      },
      "execution_count": 46,
      "outputs": []
    },
    {
      "cell_type": "code",
      "metadata": {
        "id": "_FteKzZ67cyj"
      },
      "source": [
        "from pytorch_lightning.callbacks import ModelCheckpoint\n",
        "checkpoint_callback = ModelCheckpoint( #filepath = BASE_DIR,\n",
        "    filename='epoch{epoch}-val_acc{val_acc:.4f}',\n",
        "    monitor='val_acc',\n",
        "    save_top_k=3,\n",
        "    mode='max',\n",
        "    auto_insert_metric_name=False,\n",
        ")"
      ],
      "execution_count": 21,
      "outputs": []
    },
    {
      "cell_type": "markdown",
      "metadata": {
        "id": "zBsvcdxySCqd"
      },
      "source": [
        "# 학습!\n",
        "\n",
        "> 주의: 1epoch별로 GPU-P100기준 약 1-2시간, GPU V100기준 ~30분이 걸립니다.\n",
        "\n",
        "> Update @ 2020.09.01\n",
        "> 최근 Colab Pro에서 V100이 배정됩니다.\n",
        "\n",
        "```python\n",
        "# 1epoch 기준 아래 score가 나옵니다.\n",
        "{'val_acc': 0.90522,\n",
        " 'val_f1': 0.9049023739289227,\n",
        " 'val_loss': 0.23429009318351746,\n",
        " 'val_precision': 0.9143146796431468,\n",
        " 'val_recall': 0.8956818813808446}\n",
        "```"
      ]
    },
    {
      "cell_type": "code",
      "source": [
        "print(\"Using PyTorch Ver\", torch.__version__)\n",
        "print(\"Fix Seed:\", args['random_seed'])\n",
        "seed_everything(args['random_seed'])\n",
        "model = Model(**args)\n",
        "\n",
        "print(\":: Start Training ::\")\n",
        "trainer = Trainer(\n",
        "    callbacks=[checkpoint_callback],\n",
        "    max_epochs=args['epochs'],\n",
        "    fast_dev_run=args['test_mode'],\n",
        "    num_sanity_val_steps=None if args['test_mode'] else 0,\n",
        "    # For GPU Setup\n",
        "    deterministic=torch.cuda.is_available(),\n",
        "    gpus=-1 if torch.cuda.is_available() else None,\n",
        "    precision=16 if args['fp16'] else 32,\n",
        "    # For TPU Setup\n",
        "    # tpu_cores=args.tpu_cores if args.tpu_cores else None,\n",
        ")\n",
        "trainer.fit(model)"
      ],
      "metadata": {
        "colab": {
          "base_uri": "https://localhost:8080/",
          "height": 657,
          "referenced_widgets": [
            "f4fe2790e6f44341bc6540808aa2ea15",
            "92cf4bf608a6431588859b6df7bef8f6",
            "7a739bc9c840403c8e4843c5e43be266",
            "4e30b66e07204405ba147ad5be34715a",
            "3b5bf1e35f664c57a9887ea12a782cc0",
            "88eab4a98013402ea133e3d81b35e637",
            "d8175af32d46451cb2f8726606cea22d",
            "df8c0ce4b1954c3bba31089ea5cc1b29",
            "02583a1a062b4f79be903609401984c3",
            "5c5d7e892e9c40a4895cef82318935c9",
            "555bc41b0c074a9bb1d7ba023b88890a",
            "ae77797ab1684f15a189ee7a80144737",
            "e1c5a94828e54c17ba4929fcf488a31f",
            "e6e239767e114bd0ad62971b4362f88c",
            "6eaa3df389ae44009bc43cfa0a2f70a6",
            "ee018b46a9484c3baaad7ac76af589d9",
            "251182a098c0435bbc80f9c26fe9795c",
            "6762bb5e0f984784bbe81b693cda5379",
            "ac5c6d200e1f485a9a216b130d10af88",
            "3e26286605194fb29c6972b69f2b199c",
            "9b2528d556f44e04bb02c71e8a4eabe9",
            "e10940dbc2f046c4b257e6e458b9c444"
          ]
        },
        "id": "bI8HsOVDx_JP",
        "outputId": "2e7c70c0-fd21-42ab-d4e4-7ee36b1b54b3"
      },
      "execution_count": 22,
      "outputs": [
        {
          "output_type": "stream",
          "name": "stderr",
          "text": [
            "Global seed set to 42\n"
          ]
        },
        {
          "output_type": "stream",
          "name": "stdout",
          "text": [
            "Using PyTorch Ver 1.10.0+cu111\n",
            "Fix Seed: 42\n"
          ]
        },
        {
          "output_type": "stream",
          "name": "stderr",
          "text": [
            "Some weights of the model checkpoint at beomi/kcbert-base were not used when initializing BertForSequenceClassification: ['cls.predictions.decoder.bias', 'cls.seq_relationship.weight', 'cls.predictions.transform.LayerNorm.bias', 'cls.seq_relationship.bias', 'cls.predictions.transform.LayerNorm.weight', 'cls.predictions.transform.dense.bias', 'cls.predictions.bias', 'cls.predictions.decoder.weight', 'cls.predictions.transform.dense.weight']\n",
            "- This IS expected if you are initializing BertForSequenceClassification from the checkpoint of a model trained on another task or with another architecture (e.g. initializing a BertForSequenceClassification model from a BertForPreTraining model).\n",
            "- This IS NOT expected if you are initializing BertForSequenceClassification from the checkpoint of a model that you expect to be exactly identical (initializing a BertForSequenceClassification model from a BertForSequenceClassification model).\n",
            "Some weights of BertForSequenceClassification were not initialized from the model checkpoint at beomi/kcbert-base and are newly initialized: ['classifier.weight', 'classifier.bias']\n",
            "You should probably TRAIN this model on a down-stream task to be able to use it for predictions and inference.\n",
            "Using 16bit native Automatic Mixed Precision (AMP)\n",
            "GPU available: True, used: True\n",
            "TPU available: False, using: 0 TPU cores\n",
            "IPU available: False, using: 0 IPUs\n",
            "LOCAL_RANK: 0 - CUDA_VISIBLE_DEVICES: [0]\n"
          ]
        },
        {
          "output_type": "stream",
          "name": "stdout",
          "text": [
            ":: Start Training ::\n"
          ]
        },
        {
          "output_type": "stream",
          "name": "stderr",
          "text": [
            "/usr/local/lib/python3.7/dist-packages/pytorch_lightning/core/optimizer.py:368: RuntimeWarning: Found unsupported keys in the optimizer configuration: {'scheduler'}\n",
            "  f\"Found unsupported keys in the optimizer configuration: {set(extra_keys)}\", category=RuntimeWarning\n",
            "\n",
            "  | Name | Type                          | Params\n",
            "-------------------------------------------------------\n",
            "0 | bert | BertForSequenceClassification | 108 M \n",
            "-------------------------------------------------------\n",
            "108 M     Trainable params\n",
            "0         Non-trainable params\n",
            "108 M     Total params\n",
            "217.840   Total estimated model params size (MB)\n",
            "/usr/local/lib/python3.7/dist-packages/torch/utils/data/dataloader.py:481: UserWarning: This DataLoader will create 4 worker processes in total. Our suggested max number of worker in current system is 2, which is smaller than what this DataLoader is going to create. Please be aware that excessive worker creation might get DataLoader running slow or even freeze, lower the worker number to avoid potential slowness/freeze if necessary.\n",
            "  cpuset_checked))\n",
            "/usr/local/lib/python3.7/dist-packages/pytorch_lightning/trainer/trainer.py:1837: PossibleUserWarning: The number of training samples (22) is smaller than the logging interval Trainer(log_every_n_steps=50). Set a lower value for log_every_n_steps if you want to see logs for the training epoch.\n",
            "  category=PossibleUserWarning,\n"
          ]
        },
        {
          "output_type": "display_data",
          "data": {
            "application/vnd.jupyter.widget-view+json": {
              "model_id": "f4fe2790e6f44341bc6540808aa2ea15",
              "version_minor": 0,
              "version_major": 2
            },
            "text/plain": [
              "Training: 0it [00:00, ?it/s]"
            ]
          },
          "metadata": {}
        },
        {
          "output_type": "display_data",
          "data": {
            "application/vnd.jupyter.widget-view+json": {
              "model_id": "ae77797ab1684f15a189ee7a80144737",
              "version_minor": 0,
              "version_major": 2
            },
            "text/plain": [
              "Validating: 0it [00:00, ?it/s]"
            ]
          },
          "metadata": {}
        }
      ]
    },
    {
      "cell_type": "code",
      "source": [
        ""
      ],
      "metadata": {
        "id": "v2eHzqRqvCYW"
      },
      "execution_count": null,
      "outputs": []
    },
    {
      "cell_type": "code",
      "source": [
        ""
      ],
      "metadata": {
        "id": "sh7Tl0ZQqRx0"
      },
      "execution_count": null,
      "outputs": []
    },
    {
      "cell_type": "code",
      "source": [
        "trainer.save_checkpoint(\"KcBERT.ckpt\") # 저장\n",
        "#loaded_model = LitMNIST.load_from_checkpoint(\"KcBERT.ckpt\") # 불러오기"
      ],
      "metadata": {
        "colab": {
          "base_uri": "https://localhost:8080/",
          "height": 378
        },
        "id": "wZtJWO0zoxe4",
        "outputId": "3d875256-af9f-4995-9783-33bd5e206f54"
      },
      "execution_count": 30,
      "outputs": [
        {
          "output_type": "error",
          "ename": "TypeError",
          "evalue": "ignored",
          "traceback": [
            "\u001b[0;31m---------------------------------------------------------------------------\u001b[0m",
            "\u001b[0;31mTypeError\u001b[0m                                 Traceback (most recent call last)",
            "\u001b[0;32m<ipython-input-30-ef0a17a5a4d5>\u001b[0m in \u001b[0;36m<module>\u001b[0;34m()\u001b[0m\n\u001b[0;32m----> 1\u001b[0;31m \u001b[0mtrainer\u001b[0m\u001b[0;34m.\u001b[0m\u001b[0msave_checkpoint\u001b[0m\u001b[0;34m(\u001b[0m\u001b[0;34m\"KcBERT.ckpt\"\u001b[0m\u001b[0;34m)\u001b[0m \u001b[0;31m# 저장\u001b[0m\u001b[0;34m\u001b[0m\u001b[0;34m\u001b[0m\u001b[0m\n\u001b[0m\u001b[1;32m      2\u001b[0m \u001b[0;31m#loaded_model = LitMNIST.load_from_checkpoint(\"KcBERT.ckpt\") # 불러오기\u001b[0m\u001b[0;34m\u001b[0m\u001b[0;34m\u001b[0m\u001b[0;34m\u001b[0m\u001b[0m\n",
            "\u001b[0;32m/usr/local/lib/python3.7/dist-packages/pytorch_lightning/trainer/trainer.py\u001b[0m in \u001b[0;36msave_checkpoint\u001b[0;34m(self, filepath, weights_only)\u001b[0m\n\u001b[1;32m   2219\u001b[0m \u001b[0;34m\u001b[0m\u001b[0m\n\u001b[1;32m   2220\u001b[0m         \"\"\"\n\u001b[0;32m-> 2221\u001b[0;31m         \u001b[0mself\u001b[0m\u001b[0;34m.\u001b[0m\u001b[0mcheckpoint_connector\u001b[0m\u001b[0;34m.\u001b[0m\u001b[0msave_checkpoint\u001b[0m\u001b[0;34m(\u001b[0m\u001b[0mfilepath\u001b[0m\u001b[0;34m,\u001b[0m \u001b[0mweights_only\u001b[0m\u001b[0;34m)\u001b[0m\u001b[0;34m\u001b[0m\u001b[0;34m\u001b[0m\u001b[0m\n\u001b[0m\u001b[1;32m   2222\u001b[0m \u001b[0;34m\u001b[0m\u001b[0m\n\u001b[1;32m   2223\u001b[0m     \"\"\"\n",
            "\u001b[0;32m/usr/local/lib/python3.7/dist-packages/pytorch_lightning/trainer/connectors/checkpoint_connector.py\u001b[0m in \u001b[0;36msave_checkpoint\u001b[0;34m(self, filepath, weights_only)\u001b[0m\n\u001b[1;32m    400\u001b[0m             \u001b[0mweights_only\u001b[0m\u001b[0;34m:\u001b[0m \u001b[0msaving\u001b[0m \u001b[0mmodel\u001b[0m \u001b[0mweights\u001b[0m \u001b[0monly\u001b[0m\u001b[0;34m\u001b[0m\u001b[0;34m\u001b[0m\u001b[0m\n\u001b[1;32m    401\u001b[0m         \"\"\"\n\u001b[0;32m--> 402\u001b[0;31m         \u001b[0m_checkpoint\u001b[0m \u001b[0;34m=\u001b[0m \u001b[0mself\u001b[0m\u001b[0;34m.\u001b[0m\u001b[0mdump_checkpoint\u001b[0m\u001b[0;34m(\u001b[0m\u001b[0mweights_only\u001b[0m\u001b[0;34m)\u001b[0m\u001b[0;34m\u001b[0m\u001b[0;34m\u001b[0m\u001b[0m\n\u001b[0m\u001b[1;32m    403\u001b[0m         \u001b[0mself\u001b[0m\u001b[0;34m.\u001b[0m\u001b[0mtrainer\u001b[0m\u001b[0;34m.\u001b[0m\u001b[0mstrategy\u001b[0m\u001b[0;34m.\u001b[0m\u001b[0msave_checkpoint\u001b[0m\u001b[0;34m(\u001b[0m\u001b[0m_checkpoint\u001b[0m\u001b[0;34m,\u001b[0m \u001b[0mfilepath\u001b[0m\u001b[0;34m)\u001b[0m\u001b[0;34m\u001b[0m\u001b[0;34m\u001b[0m\u001b[0m\n\u001b[1;32m    404\u001b[0m \u001b[0;34m\u001b[0m\u001b[0m\n",
            "\u001b[0;32m/usr/local/lib/python3.7/dist-packages/pytorch_lightning/trainer/connectors/checkpoint_connector.py\u001b[0m in \u001b[0;36mdump_checkpoint\u001b[0;34m(self, weights_only)\u001b[0m\n\u001b[1;32m    340\u001b[0m             \u001b[0mcurrent_epoch\u001b[0m \u001b[0;34m+=\u001b[0m \u001b[0;36m1\u001b[0m\u001b[0;34m\u001b[0m\u001b[0;34m\u001b[0m\u001b[0m\n\u001b[1;32m    341\u001b[0m \u001b[0;34m\u001b[0m\u001b[0m\n\u001b[0;32m--> 342\u001b[0;31m         \u001b[0mmodel\u001b[0m \u001b[0;34m=\u001b[0m \u001b[0mself\u001b[0m\u001b[0;34m.\u001b[0m\u001b[0mtrainer\u001b[0m\u001b[0;34m.\u001b[0m\u001b[0mlightning_module\u001b[0m\u001b[0;34m\u001b[0m\u001b[0;34m\u001b[0m\u001b[0m\n\u001b[0m\u001b[1;32m    343\u001b[0m \u001b[0;34m\u001b[0m\u001b[0m\n\u001b[1;32m    344\u001b[0m         checkpoint = {\n",
            "\u001b[0;32m/usr/local/lib/python3.7/dist-packages/pytorch_lightning/trainer/trainer.py\u001b[0m in \u001b[0;36mlightning_module\u001b[0;34m(self)\u001b[0m\n\u001b[1;32m   1993\u001b[0m     \u001b[0;34m@\u001b[0m\u001b[0mproperty\u001b[0m\u001b[0;34m\u001b[0m\u001b[0;34m\u001b[0m\u001b[0m\n\u001b[1;32m   1994\u001b[0m     \u001b[0;32mdef\u001b[0m \u001b[0mlightning_module\u001b[0m\u001b[0;34m(\u001b[0m\u001b[0mself\u001b[0m\u001b[0;34m)\u001b[0m \u001b[0;34m->\u001b[0m \u001b[0;34m\"pl.LightningModule\"\u001b[0m\u001b[0;34m:\u001b[0m\u001b[0;34m\u001b[0m\u001b[0;34m\u001b[0m\u001b[0m\n\u001b[0;32m-> 1995\u001b[0;31m         \u001b[0;32mreturn\u001b[0m \u001b[0mself\u001b[0m\u001b[0;34m.\u001b[0m\u001b[0mstrategy\u001b[0m\u001b[0;34m.\u001b[0m\u001b[0mlightning_module\u001b[0m\u001b[0;34m\u001b[0m\u001b[0;34m\u001b[0m\u001b[0m\n\u001b[0m\u001b[1;32m   1996\u001b[0m \u001b[0;34m\u001b[0m\u001b[0m\n\u001b[1;32m   1997\u001b[0m     \u001b[0;34m@\u001b[0m\u001b[0mproperty\u001b[0m\u001b[0;34m\u001b[0m\u001b[0;34m\u001b[0m\u001b[0m\n",
            "\u001b[0;32m/usr/local/lib/python3.7/dist-packages/pytorch_lightning/strategies/strategy.py\u001b[0m in \u001b[0;36mlightning_module\u001b[0;34m(self)\u001b[0m\n\u001b[1;32m    305\u001b[0m     \u001b[0;32mdef\u001b[0m \u001b[0mlightning_module\u001b[0m\u001b[0;34m(\u001b[0m\u001b[0mself\u001b[0m\u001b[0;34m)\u001b[0m \u001b[0;34m->\u001b[0m \u001b[0mOptional\u001b[0m\u001b[0;34m[\u001b[0m\u001b[0;34m\"pl.LightningModule\"\u001b[0m\u001b[0;34m]\u001b[0m\u001b[0;34m:\u001b[0m\u001b[0;34m\u001b[0m\u001b[0;34m\u001b[0m\u001b[0m\n\u001b[1;32m    306\u001b[0m         \u001b[0;34m\"\"\"Returns the pure LightningModule without potential wrappers.\"\"\"\u001b[0m\u001b[0;34m\u001b[0m\u001b[0;34m\u001b[0m\u001b[0m\n\u001b[0;32m--> 307\u001b[0;31m         \u001b[0;32mreturn\u001b[0m \u001b[0munwrap_lightning_module\u001b[0m\u001b[0;34m(\u001b[0m\u001b[0mself\u001b[0m\u001b[0;34m.\u001b[0m\u001b[0mmodel\u001b[0m\u001b[0;34m)\u001b[0m \u001b[0;32mif\u001b[0m \u001b[0mself\u001b[0m\u001b[0;34m.\u001b[0m\u001b[0mmodel\u001b[0m \u001b[0;32mis\u001b[0m \u001b[0;32mnot\u001b[0m \u001b[0;32mNone\u001b[0m \u001b[0;32melse\u001b[0m \u001b[0;32mNone\u001b[0m\u001b[0;34m\u001b[0m\u001b[0;34m\u001b[0m\u001b[0m\n\u001b[0m\u001b[1;32m    308\u001b[0m \u001b[0;34m\u001b[0m\u001b[0m\n\u001b[1;32m    309\u001b[0m     \u001b[0;32mdef\u001b[0m \u001b[0mload_checkpoint\u001b[0m\u001b[0;34m(\u001b[0m\u001b[0mself\u001b[0m\u001b[0;34m,\u001b[0m \u001b[0mcheckpoint_path\u001b[0m\u001b[0;34m:\u001b[0m \u001b[0m_PATH\u001b[0m\u001b[0;34m)\u001b[0m \u001b[0;34m->\u001b[0m \u001b[0mDict\u001b[0m\u001b[0;34m[\u001b[0m\u001b[0mstr\u001b[0m\u001b[0;34m,\u001b[0m \u001b[0mAny\u001b[0m\u001b[0;34m]\u001b[0m\u001b[0;34m:\u001b[0m\u001b[0;34m\u001b[0m\u001b[0;34m\u001b[0m\u001b[0m\n",
            "\u001b[0;32m/usr/local/lib/python3.7/dist-packages/pytorch_lightning/overrides/base.py\u001b[0m in \u001b[0;36munwrap_lightning_module\u001b[0;34m(wrapped_model)\u001b[0m\n\u001b[1;32m    117\u001b[0m         \u001b[0mmodel\u001b[0m \u001b[0;34m=\u001b[0m \u001b[0munwrap_lightning_module\u001b[0m\u001b[0;34m(\u001b[0m\u001b[0mmodel\u001b[0m\u001b[0;34m.\u001b[0m\u001b[0mmodule\u001b[0m\u001b[0;34m)\u001b[0m\u001b[0;34m\u001b[0m\u001b[0;34m\u001b[0m\u001b[0m\n\u001b[1;32m    118\u001b[0m     \u001b[0;32mif\u001b[0m \u001b[0;32mnot\u001b[0m \u001b[0misinstance\u001b[0m\u001b[0;34m(\u001b[0m\u001b[0mmodel\u001b[0m\u001b[0;34m,\u001b[0m \u001b[0mpl\u001b[0m\u001b[0;34m.\u001b[0m\u001b[0mLightningModule\u001b[0m\u001b[0;34m)\u001b[0m\u001b[0;34m:\u001b[0m\u001b[0;34m\u001b[0m\u001b[0;34m\u001b[0m\u001b[0m\n\u001b[0;32m--> 119\u001b[0;31m         \u001b[0;32mraise\u001b[0m \u001b[0mTypeError\u001b[0m\u001b[0;34m(\u001b[0m\u001b[0;34mf\"Unwrapping the module did not yield a `LightningModule`, got {type(model)} instead.\"\u001b[0m\u001b[0;34m)\u001b[0m\u001b[0;34m\u001b[0m\u001b[0;34m\u001b[0m\u001b[0m\n\u001b[0m\u001b[1;32m    120\u001b[0m     \u001b[0;32mreturn\u001b[0m \u001b[0mmodel\u001b[0m\u001b[0;34m\u001b[0m\u001b[0;34m\u001b[0m\u001b[0m\n",
            "\u001b[0;31mTypeError\u001b[0m: Unwrapping the module did not yield a `LightningModule`, got <class 'str'> instead."
          ]
        }
      ]
    },
    {
      "cell_type": "code",
      "source": [
        "test_loader = DataLoader(\"test.txt\")"
      ],
      "metadata": {
        "id": "VB2VhEu7shVa"
      },
      "execution_count": 47,
      "outputs": []
    },
    {
      "cell_type": "code",
      "source": [
        "trainer.test()"
      ],
      "metadata": {
        "id": "BdCBpWKehjsI",
        "colab": {
          "base_uri": "https://localhost:8080/",
          "height": 360
        },
        "outputId": "a622512f-d08c-43fb-ca75-ff3402b712bf"
      },
      "execution_count": 51,
      "outputs": [
        {
          "output_type": "error",
          "ename": "TypeError",
          "evalue": "ignored",
          "traceback": [
            "\u001b[0;31m---------------------------------------------------------------------------\u001b[0m",
            "\u001b[0;31mTypeError\u001b[0m                                 Traceback (most recent call last)",
            "\u001b[0;32m<ipython-input-51-24edee734c4e>\u001b[0m in \u001b[0;36m<module>\u001b[0;34m()\u001b[0m\n\u001b[0;32m----> 1\u001b[0;31m \u001b[0mtrainer\u001b[0m\u001b[0;34m.\u001b[0m\u001b[0mtest\u001b[0m\u001b[0;34m(\u001b[0m\u001b[0;34m)\u001b[0m\u001b[0;34m\u001b[0m\u001b[0;34m\u001b[0m\u001b[0m\n\u001b[0m",
            "\u001b[0;32m/usr/local/lib/python3.7/dist-packages/pytorch_lightning/trainer/trainer.py\u001b[0m in \u001b[0;36mtest\u001b[0;34m(self, model, dataloaders, ckpt_path, verbose, datamodule)\u001b[0m\n\u001b[1;32m    892\u001b[0m             \u001b[0mThe\u001b[0m \u001b[0mlength\u001b[0m \u001b[0mof\u001b[0m \u001b[0mthe\u001b[0m \u001b[0mlist\u001b[0m \u001b[0mcorresponds\u001b[0m \u001b[0mto\u001b[0m \u001b[0mthe\u001b[0m \u001b[0mnumber\u001b[0m \u001b[0mof\u001b[0m \u001b[0mtest\u001b[0m \u001b[0mdataloaders\u001b[0m \u001b[0mused\u001b[0m\u001b[0;34m.\u001b[0m\u001b[0;34m\u001b[0m\u001b[0;34m\u001b[0m\u001b[0m\n\u001b[1;32m    893\u001b[0m         \"\"\"\n\u001b[0;32m--> 894\u001b[0;31m         \u001b[0mself\u001b[0m\u001b[0;34m.\u001b[0m\u001b[0mstrategy\u001b[0m\u001b[0;34m.\u001b[0m\u001b[0mmodel\u001b[0m \u001b[0;34m=\u001b[0m \u001b[0mmodel\u001b[0m \u001b[0;32mor\u001b[0m \u001b[0mself\u001b[0m\u001b[0;34m.\u001b[0m\u001b[0mlightning_module\u001b[0m\u001b[0;34m\u001b[0m\u001b[0;34m\u001b[0m\u001b[0m\n\u001b[0m\u001b[1;32m    895\u001b[0m         \u001b[0;32mreturn\u001b[0m \u001b[0mself\u001b[0m\u001b[0;34m.\u001b[0m\u001b[0m_call_and_handle_interrupt\u001b[0m\u001b[0;34m(\u001b[0m\u001b[0mself\u001b[0m\u001b[0;34m.\u001b[0m\u001b[0m_test_impl\u001b[0m\u001b[0;34m,\u001b[0m \u001b[0mmodel\u001b[0m\u001b[0;34m,\u001b[0m \u001b[0mdataloaders\u001b[0m\u001b[0;34m,\u001b[0m \u001b[0mckpt_path\u001b[0m\u001b[0;34m,\u001b[0m \u001b[0mverbose\u001b[0m\u001b[0;34m,\u001b[0m \u001b[0mdatamodule\u001b[0m\u001b[0;34m)\u001b[0m\u001b[0;34m\u001b[0m\u001b[0;34m\u001b[0m\u001b[0m\n\u001b[1;32m    896\u001b[0m \u001b[0;34m\u001b[0m\u001b[0m\n",
            "\u001b[0;32m/usr/local/lib/python3.7/dist-packages/pytorch_lightning/trainer/trainer.py\u001b[0m in \u001b[0;36mlightning_module\u001b[0;34m(self)\u001b[0m\n\u001b[1;32m   1993\u001b[0m     \u001b[0;34m@\u001b[0m\u001b[0mproperty\u001b[0m\u001b[0;34m\u001b[0m\u001b[0;34m\u001b[0m\u001b[0m\n\u001b[1;32m   1994\u001b[0m     \u001b[0;32mdef\u001b[0m \u001b[0mlightning_module\u001b[0m\u001b[0;34m(\u001b[0m\u001b[0mself\u001b[0m\u001b[0;34m)\u001b[0m \u001b[0;34m->\u001b[0m \u001b[0;34m\"pl.LightningModule\"\u001b[0m\u001b[0;34m:\u001b[0m\u001b[0;34m\u001b[0m\u001b[0;34m\u001b[0m\u001b[0m\n\u001b[0;32m-> 1995\u001b[0;31m         \u001b[0;32mreturn\u001b[0m \u001b[0mself\u001b[0m\u001b[0;34m.\u001b[0m\u001b[0mstrategy\u001b[0m\u001b[0;34m.\u001b[0m\u001b[0mlightning_module\u001b[0m\u001b[0;34m\u001b[0m\u001b[0;34m\u001b[0m\u001b[0m\n\u001b[0m\u001b[1;32m   1996\u001b[0m \u001b[0;34m\u001b[0m\u001b[0m\n\u001b[1;32m   1997\u001b[0m     \u001b[0;34m@\u001b[0m\u001b[0mproperty\u001b[0m\u001b[0;34m\u001b[0m\u001b[0;34m\u001b[0m\u001b[0m\n",
            "\u001b[0;32m/usr/local/lib/python3.7/dist-packages/pytorch_lightning/strategies/strategy.py\u001b[0m in \u001b[0;36mlightning_module\u001b[0;34m(self)\u001b[0m\n\u001b[1;32m    305\u001b[0m     \u001b[0;32mdef\u001b[0m \u001b[0mlightning_module\u001b[0m\u001b[0;34m(\u001b[0m\u001b[0mself\u001b[0m\u001b[0;34m)\u001b[0m \u001b[0;34m->\u001b[0m \u001b[0mOptional\u001b[0m\u001b[0;34m[\u001b[0m\u001b[0;34m\"pl.LightningModule\"\u001b[0m\u001b[0;34m]\u001b[0m\u001b[0;34m:\u001b[0m\u001b[0;34m\u001b[0m\u001b[0;34m\u001b[0m\u001b[0m\n\u001b[1;32m    306\u001b[0m         \u001b[0;34m\"\"\"Returns the pure LightningModule without potential wrappers.\"\"\"\u001b[0m\u001b[0;34m\u001b[0m\u001b[0;34m\u001b[0m\u001b[0m\n\u001b[0;32m--> 307\u001b[0;31m         \u001b[0;32mreturn\u001b[0m \u001b[0munwrap_lightning_module\u001b[0m\u001b[0;34m(\u001b[0m\u001b[0mself\u001b[0m\u001b[0;34m.\u001b[0m\u001b[0mmodel\u001b[0m\u001b[0;34m)\u001b[0m \u001b[0;32mif\u001b[0m \u001b[0mself\u001b[0m\u001b[0;34m.\u001b[0m\u001b[0mmodel\u001b[0m \u001b[0;32mis\u001b[0m \u001b[0;32mnot\u001b[0m \u001b[0;32mNone\u001b[0m \u001b[0;32melse\u001b[0m \u001b[0;32mNone\u001b[0m\u001b[0;34m\u001b[0m\u001b[0;34m\u001b[0m\u001b[0m\n\u001b[0m\u001b[1;32m    308\u001b[0m \u001b[0;34m\u001b[0m\u001b[0m\n\u001b[1;32m    309\u001b[0m     \u001b[0;32mdef\u001b[0m \u001b[0mload_checkpoint\u001b[0m\u001b[0;34m(\u001b[0m\u001b[0mself\u001b[0m\u001b[0;34m,\u001b[0m \u001b[0mcheckpoint_path\u001b[0m\u001b[0;34m:\u001b[0m \u001b[0m_PATH\u001b[0m\u001b[0;34m)\u001b[0m \u001b[0;34m->\u001b[0m \u001b[0mDict\u001b[0m\u001b[0;34m[\u001b[0m\u001b[0mstr\u001b[0m\u001b[0;34m,\u001b[0m \u001b[0mAny\u001b[0m\u001b[0;34m]\u001b[0m\u001b[0;34m:\u001b[0m\u001b[0;34m\u001b[0m\u001b[0;34m\u001b[0m\u001b[0m\n",
            "\u001b[0;32m/usr/local/lib/python3.7/dist-packages/pytorch_lightning/overrides/base.py\u001b[0m in \u001b[0;36munwrap_lightning_module\u001b[0;34m(wrapped_model)\u001b[0m\n\u001b[1;32m    117\u001b[0m         \u001b[0mmodel\u001b[0m \u001b[0;34m=\u001b[0m \u001b[0munwrap_lightning_module\u001b[0m\u001b[0;34m(\u001b[0m\u001b[0mmodel\u001b[0m\u001b[0;34m.\u001b[0m\u001b[0mmodule\u001b[0m\u001b[0;34m)\u001b[0m\u001b[0;34m\u001b[0m\u001b[0;34m\u001b[0m\u001b[0m\n\u001b[1;32m    118\u001b[0m     \u001b[0;32mif\u001b[0m \u001b[0;32mnot\u001b[0m \u001b[0misinstance\u001b[0m\u001b[0;34m(\u001b[0m\u001b[0mmodel\u001b[0m\u001b[0;34m,\u001b[0m \u001b[0mpl\u001b[0m\u001b[0;34m.\u001b[0m\u001b[0mLightningModule\u001b[0m\u001b[0;34m)\u001b[0m\u001b[0;34m:\u001b[0m\u001b[0;34m\u001b[0m\u001b[0;34m\u001b[0m\u001b[0m\n\u001b[0;32m--> 119\u001b[0;31m         \u001b[0;32mraise\u001b[0m \u001b[0mTypeError\u001b[0m\u001b[0;34m(\u001b[0m\u001b[0;34mf\"Unwrapping the module did not yield a `LightningModule`, got {type(model)} instead.\"\u001b[0m\u001b[0;34m)\u001b[0m\u001b[0;34m\u001b[0m\u001b[0;34m\u001b[0m\u001b[0m\n\u001b[0m\u001b[1;32m    120\u001b[0m     \u001b[0;32mreturn\u001b[0m \u001b[0mmodel\u001b[0m\u001b[0;34m\u001b[0m\u001b[0;34m\u001b[0m\u001b[0m\n",
            "\u001b[0;31mTypeError\u001b[0m: Unwrapping the module did not yield a `LightningModule`, got <class 'torch.utils.data.dataloader.DataLoader'> instead."
          ]
        }
      ]
    },
    {
      "cell_type": "code",
      "source": [
        "torch.save(model.state_dict(), BASE_DIR / \"KcBERT.pt\")"
      ],
      "metadata": {
        "id": "AyhHgOpZL9M2"
      },
      "execution_count": null,
      "outputs": []
    },
    {
      "cell_type": "code",
      "source": [
        "model2.load_state_dict(torch.load(BASE_DIR / \"KcBERT\"))\n",
        "model2"
      ],
      "metadata": {
        "id": "ACLgqjAOMP50"
      },
      "execution_count": null,
      "outputs": []
    },
    {
      "cell_type": "code",
      "source": [
        ""
      ],
      "metadata": {
        "id": "r-gqAVGpQbmx"
      },
      "execution_count": null,
      "outputs": []
    }
  ]
}